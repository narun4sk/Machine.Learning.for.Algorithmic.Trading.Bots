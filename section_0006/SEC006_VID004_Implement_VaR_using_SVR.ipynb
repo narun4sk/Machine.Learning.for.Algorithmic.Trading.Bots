{
 "cells": [
  {
   "cell_type": "code",
   "execution_count": 1,
   "metadata": {},
   "outputs": [],
   "source": [
    "import pandas as pd"
   ]
  },
  {
   "cell_type": "code",
   "execution_count": 2,
   "metadata": {},
   "outputs": [],
   "source": [
    "df = pd.read_csv('performance.csv')"
   ]
  },
  {
   "cell_type": "code",
   "execution_count": 3,
   "metadata": {},
   "outputs": [
    {
     "data": {
      "text/html": [
       "<div>\n",
       "<style scoped>\n",
       "    .dataframe tbody tr th:only-of-type {\n",
       "        vertical-align: middle;\n",
       "    }\n",
       "\n",
       "    .dataframe tbody tr th {\n",
       "        vertical-align: top;\n",
       "    }\n",
       "\n",
       "    .dataframe thead th {\n",
       "        text-align: right;\n",
       "    }\n",
       "</style>\n",
       "<table border=\"1\" class=\"dataframe\">\n",
       "  <thead>\n",
       "    <tr style=\"text-align: right;\">\n",
       "      <th></th>\n",
       "      <th>Unnamed: 0</th>\n",
       "      <th>ASSETME</th>\n",
       "      <th>CORR</th>\n",
       "      <th>algo_volatility</th>\n",
       "      <th>algorithm_period_return</th>\n",
       "      <th>alpha</th>\n",
       "      <th>benchmark_period_return</th>\n",
       "      <th>benchmark_volatility</th>\n",
       "      <th>beta</th>\n",
       "      <th>capital_used</th>\n",
       "      <th>...</th>\n",
       "      <th>short_exposure</th>\n",
       "      <th>short_value</th>\n",
       "      <th>shorts_count</th>\n",
       "      <th>sortino</th>\n",
       "      <th>starting_cash</th>\n",
       "      <th>starting_exposure</th>\n",
       "      <th>starting_value</th>\n",
       "      <th>trading_days</th>\n",
       "      <th>transactions</th>\n",
       "      <th>treasury_period_return</th>\n",
       "    </tr>\n",
       "  </thead>\n",
       "  <tbody>\n",
       "    <tr>\n",
       "      <th>0</th>\n",
       "      <td>2017-01-03 21:00:00+00:00</td>\n",
       "      <td>216.99</td>\n",
       "      <td>-0.371008</td>\n",
       "      <td>NaN</td>\n",
       "      <td>0.000000</td>\n",
       "      <td>NaN</td>\n",
       "      <td>0.007650</td>\n",
       "      <td>NaN</td>\n",
       "      <td>NaN</td>\n",
       "      <td>0.00</td>\n",
       "      <td>...</td>\n",
       "      <td>0.0</td>\n",
       "      <td>0.0</td>\n",
       "      <td>0</td>\n",
       "      <td>NaN</td>\n",
       "      <td>10000000.00</td>\n",
       "      <td>0.0</td>\n",
       "      <td>0.0</td>\n",
       "      <td>1</td>\n",
       "      <td>[]</td>\n",
       "      <td>0.0</td>\n",
       "    </tr>\n",
       "    <tr>\n",
       "      <th>1</th>\n",
       "      <td>2017-01-04 21:00:00+00:00</td>\n",
       "      <td>226.99</td>\n",
       "      <td>0.859145</td>\n",
       "      <td>0.000000</td>\n",
       "      <td>0.000000</td>\n",
       "      <td>0.000000</td>\n",
       "      <td>0.013645</td>\n",
       "      <td>0.019097</td>\n",
       "      <td>0.000000</td>\n",
       "      <td>0.00</td>\n",
       "      <td>...</td>\n",
       "      <td>0.0</td>\n",
       "      <td>0.0</td>\n",
       "      <td>0</td>\n",
       "      <td>NaN</td>\n",
       "      <td>10000000.00</td>\n",
       "      <td>0.0</td>\n",
       "      <td>0.0</td>\n",
       "      <td>2</td>\n",
       "      <td>[]</td>\n",
       "      <td>0.0</td>\n",
       "    </tr>\n",
       "    <tr>\n",
       "      <th>2</th>\n",
       "      <td>2017-01-05 21:00:00+00:00</td>\n",
       "      <td>226.75</td>\n",
       "      <td>0.676593</td>\n",
       "      <td>0.000000</td>\n",
       "      <td>0.000000</td>\n",
       "      <td>0.000000</td>\n",
       "      <td>0.012840</td>\n",
       "      <td>0.070899</td>\n",
       "      <td>0.000000</td>\n",
       "      <td>0.00</td>\n",
       "      <td>...</td>\n",
       "      <td>0.0</td>\n",
       "      <td>0.0</td>\n",
       "      <td>0</td>\n",
       "      <td>NaN</td>\n",
       "      <td>10000000.00</td>\n",
       "      <td>0.0</td>\n",
       "      <td>0.0</td>\n",
       "      <td>3</td>\n",
       "      <td>[]</td>\n",
       "      <td>0.0</td>\n",
       "    </tr>\n",
       "    <tr>\n",
       "      <th>3</th>\n",
       "      <td>2017-01-06 21:00:00+00:00</td>\n",
       "      <td>229.01</td>\n",
       "      <td>0.394703</td>\n",
       "      <td>0.000026</td>\n",
       "      <td>-0.000003</td>\n",
       "      <td>-0.000247</td>\n",
       "      <td>0.016463</td>\n",
       "      <td>0.058148</td>\n",
       "      <td>0.000042</td>\n",
       "      <td>-62872.42</td>\n",
       "      <td>...</td>\n",
       "      <td>0.0</td>\n",
       "      <td>0.0</td>\n",
       "      <td>0</td>\n",
       "      <td>-7.937254</td>\n",
       "      <td>10000000.00</td>\n",
       "      <td>0.0</td>\n",
       "      <td>0.0</td>\n",
       "      <td>4</td>\n",
       "      <td>[{'amount': 1000, 'dt': Timestamp('2017-01-06 ...</td>\n",
       "      <td>0.0</td>\n",
       "    </tr>\n",
       "    <tr>\n",
       "      <th>4</th>\n",
       "      <td>2017-01-09 21:00:00+00:00</td>\n",
       "      <td>231.28</td>\n",
       "      <td>0.814375</td>\n",
       "      <td>0.000138</td>\n",
       "      <td>-0.000023</td>\n",
       "      <td>-0.002076</td>\n",
       "      <td>0.013108</td>\n",
       "      <td>0.072753</td>\n",
       "      <td>0.001371</td>\n",
       "      <td>0.00</td>\n",
       "      <td>...</td>\n",
       "      <td>0.0</td>\n",
       "      <td>0.0</td>\n",
       "      <td>0</td>\n",
       "      <td>-8.143788</td>\n",
       "      <td>9937127.58</td>\n",
       "      <td>62840.0</td>\n",
       "      <td>62840.0</td>\n",
       "      <td>5</td>\n",
       "      <td>[]</td>\n",
       "      <td>0.0</td>\n",
       "    </tr>\n",
       "  </tbody>\n",
       "</table>\n",
       "<p>5 rows × 40 columns</p>\n",
       "</div>"
      ],
      "text/plain": [
       "                  Unnamed: 0  ASSETME      CORR  algo_volatility  \\\n",
       "0  2017-01-03 21:00:00+00:00   216.99 -0.371008              NaN   \n",
       "1  2017-01-04 21:00:00+00:00   226.99  0.859145         0.000000   \n",
       "2  2017-01-05 21:00:00+00:00   226.75  0.676593         0.000000   \n",
       "3  2017-01-06 21:00:00+00:00   229.01  0.394703         0.000026   \n",
       "4  2017-01-09 21:00:00+00:00   231.28  0.814375         0.000138   \n",
       "\n",
       "   algorithm_period_return     alpha  benchmark_period_return  \\\n",
       "0                 0.000000       NaN                 0.007650   \n",
       "1                 0.000000  0.000000                 0.013645   \n",
       "2                 0.000000  0.000000                 0.012840   \n",
       "3                -0.000003 -0.000247                 0.016463   \n",
       "4                -0.000023 -0.002076                 0.013108   \n",
       "\n",
       "   benchmark_volatility      beta  capital_used  ...  short_exposure  \\\n",
       "0                   NaN       NaN          0.00  ...             0.0   \n",
       "1              0.019097  0.000000          0.00  ...             0.0   \n",
       "2              0.070899  0.000000          0.00  ...             0.0   \n",
       "3              0.058148  0.000042     -62872.42  ...             0.0   \n",
       "4              0.072753  0.001371          0.00  ...             0.0   \n",
       "\n",
       "   short_value  shorts_count   sortino  starting_cash  starting_exposure  \\\n",
       "0          0.0             0       NaN    10000000.00                0.0   \n",
       "1          0.0             0       NaN    10000000.00                0.0   \n",
       "2          0.0             0       NaN    10000000.00                0.0   \n",
       "3          0.0             0 -7.937254    10000000.00                0.0   \n",
       "4          0.0             0 -8.143788     9937127.58            62840.0   \n",
       "\n",
       "   starting_value  trading_days  \\\n",
       "0             0.0             1   \n",
       "1             0.0             2   \n",
       "2             0.0             3   \n",
       "3             0.0             4   \n",
       "4         62840.0             5   \n",
       "\n",
       "                                        transactions  treasury_period_return  \n",
       "0                                                 []                     0.0  \n",
       "1                                                 []                     0.0  \n",
       "2                                                 []                     0.0  \n",
       "3  [{'amount': 1000, 'dt': Timestamp('2017-01-06 ...                     0.0  \n",
       "4                                                 []                     0.0  \n",
       "\n",
       "[5 rows x 40 columns]"
      ]
     },
     "execution_count": 3,
     "metadata": {},
     "output_type": "execute_result"
    }
   ],
   "source": [
    "df.head()"
   ]
  },
  {
   "cell_type": "code",
   "execution_count": 4,
   "metadata": {},
   "outputs": [],
   "source": [
    "df = df[['benchmark_period_return']]"
   ]
  },
  {
   "cell_type": "code",
   "execution_count": 5,
   "metadata": {},
   "outputs": [
    {
     "data": {
      "text/html": [
       "<div>\n",
       "<style scoped>\n",
       "    .dataframe tbody tr th:only-of-type {\n",
       "        vertical-align: middle;\n",
       "    }\n",
       "\n",
       "    .dataframe tbody tr th {\n",
       "        vertical-align: top;\n",
       "    }\n",
       "\n",
       "    .dataframe thead th {\n",
       "        text-align: right;\n",
       "    }\n",
       "</style>\n",
       "<table border=\"1\" class=\"dataframe\">\n",
       "  <thead>\n",
       "    <tr style=\"text-align: right;\">\n",
       "      <th></th>\n",
       "      <th>benchmark_period_return</th>\n",
       "    </tr>\n",
       "  </thead>\n",
       "  <tbody>\n",
       "    <tr>\n",
       "      <th>0</th>\n",
       "      <td>0.007650</td>\n",
       "    </tr>\n",
       "    <tr>\n",
       "      <th>1</th>\n",
       "      <td>0.013645</td>\n",
       "    </tr>\n",
       "    <tr>\n",
       "      <th>2</th>\n",
       "      <td>0.012840</td>\n",
       "    </tr>\n",
       "    <tr>\n",
       "      <th>3</th>\n",
       "      <td>0.016463</td>\n",
       "    </tr>\n",
       "    <tr>\n",
       "      <th>4</th>\n",
       "      <td>0.013108</td>\n",
       "    </tr>\n",
       "  </tbody>\n",
       "</table>\n",
       "</div>"
      ],
      "text/plain": [
       "   benchmark_period_return\n",
       "0                 0.007650\n",
       "1                 0.013645\n",
       "2                 0.012840\n",
       "3                 0.016463\n",
       "4                 0.013108"
      ]
     },
     "execution_count": 5,
     "metadata": {},
     "output_type": "execute_result"
    }
   ],
   "source": [
    "df.head()"
   ]
  },
  {
   "cell_type": "code",
   "execution_count": 6,
   "metadata": {},
   "outputs": [],
   "source": [
    "df['lag_0'] = df.benchmark_period_return\n",
    "df = df.drop(columns=['benchmark_period_return'])"
   ]
  },
  {
   "cell_type": "code",
   "execution_count": 7,
   "metadata": {},
   "outputs": [],
   "source": [
    "for i in range(1, 20):\n",
    "    col = \"lag_{}\".format(i)\n",
    "    df[col] = df.lag_0.shift(-1 * i).values"
   ]
  },
  {
   "cell_type": "code",
   "execution_count": 8,
   "metadata": {},
   "outputs": [
    {
     "data": {
      "text/html": [
       "<div>\n",
       "<style scoped>\n",
       "    .dataframe tbody tr th:only-of-type {\n",
       "        vertical-align: middle;\n",
       "    }\n",
       "\n",
       "    .dataframe tbody tr th {\n",
       "        vertical-align: top;\n",
       "    }\n",
       "\n",
       "    .dataframe thead th {\n",
       "        text-align: right;\n",
       "    }\n",
       "</style>\n",
       "<table border=\"1\" class=\"dataframe\">\n",
       "  <thead>\n",
       "    <tr style=\"text-align: right;\">\n",
       "      <th></th>\n",
       "      <th>lag_0</th>\n",
       "      <th>lag_1</th>\n",
       "      <th>lag_2</th>\n",
       "      <th>lag_3</th>\n",
       "      <th>lag_4</th>\n",
       "      <th>lag_5</th>\n",
       "      <th>lag_6</th>\n",
       "      <th>lag_7</th>\n",
       "      <th>lag_8</th>\n",
       "      <th>lag_9</th>\n",
       "      <th>lag_10</th>\n",
       "      <th>lag_11</th>\n",
       "      <th>lag_12</th>\n",
       "      <th>lag_13</th>\n",
       "      <th>lag_14</th>\n",
       "      <th>lag_15</th>\n",
       "      <th>lag_16</th>\n",
       "      <th>lag_17</th>\n",
       "      <th>lag_18</th>\n",
       "      <th>lag_19</th>\n",
       "    </tr>\n",
       "  </thead>\n",
       "  <tbody>\n",
       "    <tr>\n",
       "      <th>0</th>\n",
       "      <td>0.007650</td>\n",
       "      <td>0.013645</td>\n",
       "      <td>0.012840</td>\n",
       "      <td>0.016463</td>\n",
       "      <td>0.013108</td>\n",
       "      <td>0.013108</td>\n",
       "      <td>0.015971</td>\n",
       "      <td>0.013421</td>\n",
       "      <td>0.015747</td>\n",
       "      <td>0.012169</td>\n",
       "      <td>0.014405</td>\n",
       "      <td>0.010647</td>\n",
       "      <td>0.014360</td>\n",
       "      <td>0.011721</td>\n",
       "      <td>0.018208</td>\n",
       "      <td>0.027021</td>\n",
       "      <td>0.025948</td>\n",
       "      <td>0.024337</td>\n",
       "      <td>0.017984</td>\n",
       "      <td>0.017895</td>\n",
       "    </tr>\n",
       "    <tr>\n",
       "      <th>1</th>\n",
       "      <td>0.013645</td>\n",
       "      <td>0.012840</td>\n",
       "      <td>0.016463</td>\n",
       "      <td>0.013108</td>\n",
       "      <td>0.013108</td>\n",
       "      <td>0.015971</td>\n",
       "      <td>0.013421</td>\n",
       "      <td>0.015747</td>\n",
       "      <td>0.012169</td>\n",
       "      <td>0.014405</td>\n",
       "      <td>0.010647</td>\n",
       "      <td>0.014360</td>\n",
       "      <td>0.011721</td>\n",
       "      <td>0.018208</td>\n",
       "      <td>0.027021</td>\n",
       "      <td>0.025948</td>\n",
       "      <td>0.024337</td>\n",
       "      <td>0.017984</td>\n",
       "      <td>0.017895</td>\n",
       "      <td>0.018298</td>\n",
       "    </tr>\n",
       "    <tr>\n",
       "      <th>2</th>\n",
       "      <td>0.012840</td>\n",
       "      <td>0.016463</td>\n",
       "      <td>0.013108</td>\n",
       "      <td>0.013108</td>\n",
       "      <td>0.015971</td>\n",
       "      <td>0.013421</td>\n",
       "      <td>0.015747</td>\n",
       "      <td>0.012169</td>\n",
       "      <td>0.014405</td>\n",
       "      <td>0.010647</td>\n",
       "      <td>0.014360</td>\n",
       "      <td>0.011721</td>\n",
       "      <td>0.018208</td>\n",
       "      <td>0.027021</td>\n",
       "      <td>0.025948</td>\n",
       "      <td>0.024337</td>\n",
       "      <td>0.017984</td>\n",
       "      <td>0.017895</td>\n",
       "      <td>0.018298</td>\n",
       "      <td>0.018968</td>\n",
       "    </tr>\n",
       "    <tr>\n",
       "      <th>3</th>\n",
       "      <td>0.016463</td>\n",
       "      <td>0.013108</td>\n",
       "      <td>0.013108</td>\n",
       "      <td>0.015971</td>\n",
       "      <td>0.013421</td>\n",
       "      <td>0.015747</td>\n",
       "      <td>0.012169</td>\n",
       "      <td>0.014405</td>\n",
       "      <td>0.010647</td>\n",
       "      <td>0.014360</td>\n",
       "      <td>0.011721</td>\n",
       "      <td>0.018208</td>\n",
       "      <td>0.027021</td>\n",
       "      <td>0.025948</td>\n",
       "      <td>0.024337</td>\n",
       "      <td>0.017984</td>\n",
       "      <td>0.017895</td>\n",
       "      <td>0.018298</td>\n",
       "      <td>0.018968</td>\n",
       "      <td>0.025992</td>\n",
       "    </tr>\n",
       "    <tr>\n",
       "      <th>4</th>\n",
       "      <td>0.013108</td>\n",
       "      <td>0.013108</td>\n",
       "      <td>0.015971</td>\n",
       "      <td>0.013421</td>\n",
       "      <td>0.015747</td>\n",
       "      <td>0.012169</td>\n",
       "      <td>0.014405</td>\n",
       "      <td>0.010647</td>\n",
       "      <td>0.014360</td>\n",
       "      <td>0.011721</td>\n",
       "      <td>0.018208</td>\n",
       "      <td>0.027021</td>\n",
       "      <td>0.025948</td>\n",
       "      <td>0.024337</td>\n",
       "      <td>0.017984</td>\n",
       "      <td>0.017895</td>\n",
       "      <td>0.018298</td>\n",
       "      <td>0.018968</td>\n",
       "      <td>0.025992</td>\n",
       "      <td>0.024158</td>\n",
       "    </tr>\n",
       "  </tbody>\n",
       "</table>\n",
       "</div>"
      ],
      "text/plain": [
       "      lag_0     lag_1     lag_2     lag_3     lag_4     lag_5     lag_6  \\\n",
       "0  0.007650  0.013645  0.012840  0.016463  0.013108  0.013108  0.015971   \n",
       "1  0.013645  0.012840  0.016463  0.013108  0.013108  0.015971  0.013421   \n",
       "2  0.012840  0.016463  0.013108  0.013108  0.015971  0.013421  0.015747   \n",
       "3  0.016463  0.013108  0.013108  0.015971  0.013421  0.015747  0.012169   \n",
       "4  0.013108  0.013108  0.015971  0.013421  0.015747  0.012169  0.014405   \n",
       "\n",
       "      lag_7     lag_8     lag_9    lag_10    lag_11    lag_12    lag_13  \\\n",
       "0  0.013421  0.015747  0.012169  0.014405  0.010647  0.014360  0.011721   \n",
       "1  0.015747  0.012169  0.014405  0.010647  0.014360  0.011721  0.018208   \n",
       "2  0.012169  0.014405  0.010647  0.014360  0.011721  0.018208  0.027021   \n",
       "3  0.014405  0.010647  0.014360  0.011721  0.018208  0.027021  0.025948   \n",
       "4  0.010647  0.014360  0.011721  0.018208  0.027021  0.025948  0.024337   \n",
       "\n",
       "     lag_14    lag_15    lag_16    lag_17    lag_18    lag_19  \n",
       "0  0.018208  0.027021  0.025948  0.024337  0.017984  0.017895  \n",
       "1  0.027021  0.025948  0.024337  0.017984  0.017895  0.018298  \n",
       "2  0.025948  0.024337  0.017984  0.017895  0.018298  0.018968  \n",
       "3  0.024337  0.017984  0.017895  0.018298  0.018968  0.025992  \n",
       "4  0.017984  0.017895  0.018298  0.018968  0.025992  0.024158  "
      ]
     },
     "execution_count": 8,
     "metadata": {},
     "output_type": "execute_result"
    }
   ],
   "source": [
    "df.head()"
   ]
  },
  {
   "cell_type": "code",
   "execution_count": 9,
   "metadata": {},
   "outputs": [
    {
     "data": {
      "text/html": [
       "<div>\n",
       "<style scoped>\n",
       "    .dataframe tbody tr th:only-of-type {\n",
       "        vertical-align: middle;\n",
       "    }\n",
       "\n",
       "    .dataframe tbody tr th {\n",
       "        vertical-align: top;\n",
       "    }\n",
       "\n",
       "    .dataframe thead th {\n",
       "        text-align: right;\n",
       "    }\n",
       "</style>\n",
       "<table border=\"1\" class=\"dataframe\">\n",
       "  <thead>\n",
       "    <tr style=\"text-align: right;\">\n",
       "      <th></th>\n",
       "      <th>lag_0</th>\n",
       "      <th>lag_1</th>\n",
       "      <th>lag_2</th>\n",
       "      <th>lag_3</th>\n",
       "      <th>lag_4</th>\n",
       "      <th>lag_5</th>\n",
       "      <th>lag_6</th>\n",
       "      <th>lag_7</th>\n",
       "      <th>lag_8</th>\n",
       "      <th>lag_9</th>\n",
       "      <th>lag_10</th>\n",
       "      <th>lag_11</th>\n",
       "      <th>lag_12</th>\n",
       "      <th>lag_13</th>\n",
       "      <th>lag_14</th>\n",
       "      <th>lag_15</th>\n",
       "      <th>lag_16</th>\n",
       "      <th>lag_17</th>\n",
       "      <th>lag_18</th>\n",
       "      <th>lag_19</th>\n",
       "    </tr>\n",
       "  </thead>\n",
       "  <tbody>\n",
       "    <tr>\n",
       "      <th>246</th>\n",
       "      <td>0.219956</td>\n",
       "      <td>0.218496</td>\n",
       "      <td>0.219089</td>\n",
       "      <td>0.221597</td>\n",
       "      <td>0.216992</td>\n",
       "      <td>NaN</td>\n",
       "      <td>NaN</td>\n",
       "      <td>NaN</td>\n",
       "      <td>NaN</td>\n",
       "      <td>NaN</td>\n",
       "      <td>NaN</td>\n",
       "      <td>NaN</td>\n",
       "      <td>NaN</td>\n",
       "      <td>NaN</td>\n",
       "      <td>NaN</td>\n",
       "      <td>NaN</td>\n",
       "      <td>NaN</td>\n",
       "      <td>NaN</td>\n",
       "      <td>NaN</td>\n",
       "      <td>NaN</td>\n",
       "    </tr>\n",
       "    <tr>\n",
       "      <th>247</th>\n",
       "      <td>0.218496</td>\n",
       "      <td>0.219089</td>\n",
       "      <td>0.221597</td>\n",
       "      <td>0.216992</td>\n",
       "      <td>NaN</td>\n",
       "      <td>NaN</td>\n",
       "      <td>NaN</td>\n",
       "      <td>NaN</td>\n",
       "      <td>NaN</td>\n",
       "      <td>NaN</td>\n",
       "      <td>NaN</td>\n",
       "      <td>NaN</td>\n",
       "      <td>NaN</td>\n",
       "      <td>NaN</td>\n",
       "      <td>NaN</td>\n",
       "      <td>NaN</td>\n",
       "      <td>NaN</td>\n",
       "      <td>NaN</td>\n",
       "      <td>NaN</td>\n",
       "      <td>NaN</td>\n",
       "    </tr>\n",
       "    <tr>\n",
       "      <th>248</th>\n",
       "      <td>0.219089</td>\n",
       "      <td>0.221597</td>\n",
       "      <td>0.216992</td>\n",
       "      <td>NaN</td>\n",
       "      <td>NaN</td>\n",
       "      <td>NaN</td>\n",
       "      <td>NaN</td>\n",
       "      <td>NaN</td>\n",
       "      <td>NaN</td>\n",
       "      <td>NaN</td>\n",
       "      <td>NaN</td>\n",
       "      <td>NaN</td>\n",
       "      <td>NaN</td>\n",
       "      <td>NaN</td>\n",
       "      <td>NaN</td>\n",
       "      <td>NaN</td>\n",
       "      <td>NaN</td>\n",
       "      <td>NaN</td>\n",
       "      <td>NaN</td>\n",
       "      <td>NaN</td>\n",
       "    </tr>\n",
       "    <tr>\n",
       "      <th>249</th>\n",
       "      <td>0.221597</td>\n",
       "      <td>0.216992</td>\n",
       "      <td>NaN</td>\n",
       "      <td>NaN</td>\n",
       "      <td>NaN</td>\n",
       "      <td>NaN</td>\n",
       "      <td>NaN</td>\n",
       "      <td>NaN</td>\n",
       "      <td>NaN</td>\n",
       "      <td>NaN</td>\n",
       "      <td>NaN</td>\n",
       "      <td>NaN</td>\n",
       "      <td>NaN</td>\n",
       "      <td>NaN</td>\n",
       "      <td>NaN</td>\n",
       "      <td>NaN</td>\n",
       "      <td>NaN</td>\n",
       "      <td>NaN</td>\n",
       "      <td>NaN</td>\n",
       "      <td>NaN</td>\n",
       "    </tr>\n",
       "    <tr>\n",
       "      <th>250</th>\n",
       "      <td>0.216992</td>\n",
       "      <td>NaN</td>\n",
       "      <td>NaN</td>\n",
       "      <td>NaN</td>\n",
       "      <td>NaN</td>\n",
       "      <td>NaN</td>\n",
       "      <td>NaN</td>\n",
       "      <td>NaN</td>\n",
       "      <td>NaN</td>\n",
       "      <td>NaN</td>\n",
       "      <td>NaN</td>\n",
       "      <td>NaN</td>\n",
       "      <td>NaN</td>\n",
       "      <td>NaN</td>\n",
       "      <td>NaN</td>\n",
       "      <td>NaN</td>\n",
       "      <td>NaN</td>\n",
       "      <td>NaN</td>\n",
       "      <td>NaN</td>\n",
       "      <td>NaN</td>\n",
       "    </tr>\n",
       "  </tbody>\n",
       "</table>\n",
       "</div>"
      ],
      "text/plain": [
       "        lag_0     lag_1     lag_2     lag_3     lag_4  lag_5  lag_6  lag_7  \\\n",
       "246  0.219956  0.218496  0.219089  0.221597  0.216992    NaN    NaN    NaN   \n",
       "247  0.218496  0.219089  0.221597  0.216992       NaN    NaN    NaN    NaN   \n",
       "248  0.219089  0.221597  0.216992       NaN       NaN    NaN    NaN    NaN   \n",
       "249  0.221597  0.216992       NaN       NaN       NaN    NaN    NaN    NaN   \n",
       "250  0.216992       NaN       NaN       NaN       NaN    NaN    NaN    NaN   \n",
       "\n",
       "     lag_8  lag_9  lag_10  lag_11  lag_12  lag_13  lag_14  lag_15  lag_16  \\\n",
       "246    NaN    NaN     NaN     NaN     NaN     NaN     NaN     NaN     NaN   \n",
       "247    NaN    NaN     NaN     NaN     NaN     NaN     NaN     NaN     NaN   \n",
       "248    NaN    NaN     NaN     NaN     NaN     NaN     NaN     NaN     NaN   \n",
       "249    NaN    NaN     NaN     NaN     NaN     NaN     NaN     NaN     NaN   \n",
       "250    NaN    NaN     NaN     NaN     NaN     NaN     NaN     NaN     NaN   \n",
       "\n",
       "     lag_17  lag_18  lag_19  \n",
       "246     NaN     NaN     NaN  \n",
       "247     NaN     NaN     NaN  \n",
       "248     NaN     NaN     NaN  \n",
       "249     NaN     NaN     NaN  \n",
       "250     NaN     NaN     NaN  "
      ]
     },
     "execution_count": 9,
     "metadata": {},
     "output_type": "execute_result"
    }
   ],
   "source": [
    "df.tail()"
   ]
  },
  {
   "cell_type": "code",
   "execution_count": 10,
   "metadata": {},
   "outputs": [],
   "source": [
    "df = df.dropna()"
   ]
  },
  {
   "cell_type": "code",
   "execution_count": 11,
   "metadata": {},
   "outputs": [
    {
     "data": {
      "text/html": [
       "<div>\n",
       "<style scoped>\n",
       "    .dataframe tbody tr th:only-of-type {\n",
       "        vertical-align: middle;\n",
       "    }\n",
       "\n",
       "    .dataframe tbody tr th {\n",
       "        vertical-align: top;\n",
       "    }\n",
       "\n",
       "    .dataframe thead th {\n",
       "        text-align: right;\n",
       "    }\n",
       "</style>\n",
       "<table border=\"1\" class=\"dataframe\">\n",
       "  <thead>\n",
       "    <tr style=\"text-align: right;\">\n",
       "      <th></th>\n",
       "      <th>lag_0</th>\n",
       "      <th>lag_1</th>\n",
       "      <th>lag_2</th>\n",
       "      <th>lag_3</th>\n",
       "      <th>lag_4</th>\n",
       "      <th>lag_5</th>\n",
       "      <th>lag_6</th>\n",
       "      <th>lag_7</th>\n",
       "      <th>lag_8</th>\n",
       "      <th>lag_9</th>\n",
       "      <th>lag_10</th>\n",
       "      <th>lag_11</th>\n",
       "      <th>lag_12</th>\n",
       "      <th>lag_13</th>\n",
       "      <th>lag_14</th>\n",
       "      <th>lag_15</th>\n",
       "      <th>lag_16</th>\n",
       "      <th>lag_17</th>\n",
       "      <th>lag_18</th>\n",
       "      <th>lag_19</th>\n",
       "    </tr>\n",
       "  </thead>\n",
       "  <tbody>\n",
       "    <tr>\n",
       "      <th>227</th>\n",
       "      <td>0.180781</td>\n",
       "      <td>0.192760</td>\n",
       "      <td>0.192034</td>\n",
       "      <td>0.202470</td>\n",
       "      <td>0.199974</td>\n",
       "      <td>0.198522</td>\n",
       "      <td>0.194212</td>\n",
       "      <td>0.194438</td>\n",
       "      <td>0.198204</td>\n",
       "      <td>0.204738</td>\n",
       "      <td>0.208368</td>\n",
       "      <td>0.210501</td>\n",
       "      <td>0.210365</td>\n",
       "      <td>0.205419</td>\n",
       "      <td>0.215395</td>\n",
       "      <td>0.223103</td>\n",
       "      <td>0.218405</td>\n",
       "      <td>0.217767</td>\n",
       "      <td>0.220275</td>\n",
       "      <td>0.219956</td>\n",
       "    </tr>\n",
       "    <tr>\n",
       "      <th>228</th>\n",
       "      <td>0.192760</td>\n",
       "      <td>0.192034</td>\n",
       "      <td>0.202470</td>\n",
       "      <td>0.199974</td>\n",
       "      <td>0.198522</td>\n",
       "      <td>0.194212</td>\n",
       "      <td>0.194438</td>\n",
       "      <td>0.198204</td>\n",
       "      <td>0.204738</td>\n",
       "      <td>0.208368</td>\n",
       "      <td>0.210501</td>\n",
       "      <td>0.210365</td>\n",
       "      <td>0.205419</td>\n",
       "      <td>0.215395</td>\n",
       "      <td>0.223103</td>\n",
       "      <td>0.218405</td>\n",
       "      <td>0.217767</td>\n",
       "      <td>0.220275</td>\n",
       "      <td>0.219956</td>\n",
       "      <td>0.218496</td>\n",
       "    </tr>\n",
       "    <tr>\n",
       "      <th>229</th>\n",
       "      <td>0.192034</td>\n",
       "      <td>0.202470</td>\n",
       "      <td>0.199974</td>\n",
       "      <td>0.198522</td>\n",
       "      <td>0.194212</td>\n",
       "      <td>0.194438</td>\n",
       "      <td>0.198204</td>\n",
       "      <td>0.204738</td>\n",
       "      <td>0.208368</td>\n",
       "      <td>0.210501</td>\n",
       "      <td>0.210365</td>\n",
       "      <td>0.205419</td>\n",
       "      <td>0.215395</td>\n",
       "      <td>0.223103</td>\n",
       "      <td>0.218405</td>\n",
       "      <td>0.217767</td>\n",
       "      <td>0.220275</td>\n",
       "      <td>0.219956</td>\n",
       "      <td>0.218496</td>\n",
       "      <td>0.219089</td>\n",
       "    </tr>\n",
       "    <tr>\n",
       "      <th>230</th>\n",
       "      <td>0.202470</td>\n",
       "      <td>0.199974</td>\n",
       "      <td>0.198522</td>\n",
       "      <td>0.194212</td>\n",
       "      <td>0.194438</td>\n",
       "      <td>0.198204</td>\n",
       "      <td>0.204738</td>\n",
       "      <td>0.208368</td>\n",
       "      <td>0.210501</td>\n",
       "      <td>0.210365</td>\n",
       "      <td>0.205419</td>\n",
       "      <td>0.215395</td>\n",
       "      <td>0.223103</td>\n",
       "      <td>0.218405</td>\n",
       "      <td>0.217767</td>\n",
       "      <td>0.220275</td>\n",
       "      <td>0.219956</td>\n",
       "      <td>0.218496</td>\n",
       "      <td>0.219089</td>\n",
       "      <td>0.221597</td>\n",
       "    </tr>\n",
       "    <tr>\n",
       "      <th>231</th>\n",
       "      <td>0.199974</td>\n",
       "      <td>0.198522</td>\n",
       "      <td>0.194212</td>\n",
       "      <td>0.194438</td>\n",
       "      <td>0.198204</td>\n",
       "      <td>0.204738</td>\n",
       "      <td>0.208368</td>\n",
       "      <td>0.210501</td>\n",
       "      <td>0.210365</td>\n",
       "      <td>0.205419</td>\n",
       "      <td>0.215395</td>\n",
       "      <td>0.223103</td>\n",
       "      <td>0.218405</td>\n",
       "      <td>0.217767</td>\n",
       "      <td>0.220275</td>\n",
       "      <td>0.219956</td>\n",
       "      <td>0.218496</td>\n",
       "      <td>0.219089</td>\n",
       "      <td>0.221597</td>\n",
       "      <td>0.216992</td>\n",
       "    </tr>\n",
       "  </tbody>\n",
       "</table>\n",
       "</div>"
      ],
      "text/plain": [
       "        lag_0     lag_1     lag_2     lag_3     lag_4     lag_5     lag_6  \\\n",
       "227  0.180781  0.192760  0.192034  0.202470  0.199974  0.198522  0.194212   \n",
       "228  0.192760  0.192034  0.202470  0.199974  0.198522  0.194212  0.194438   \n",
       "229  0.192034  0.202470  0.199974  0.198522  0.194212  0.194438  0.198204   \n",
       "230  0.202470  0.199974  0.198522  0.194212  0.194438  0.198204  0.204738   \n",
       "231  0.199974  0.198522  0.194212  0.194438  0.198204  0.204738  0.208368   \n",
       "\n",
       "        lag_7     lag_8     lag_9    lag_10    lag_11    lag_12    lag_13  \\\n",
       "227  0.194438  0.198204  0.204738  0.208368  0.210501  0.210365  0.205419   \n",
       "228  0.198204  0.204738  0.208368  0.210501  0.210365  0.205419  0.215395   \n",
       "229  0.204738  0.208368  0.210501  0.210365  0.205419  0.215395  0.223103   \n",
       "230  0.208368  0.210501  0.210365  0.205419  0.215395  0.223103  0.218405   \n",
       "231  0.210501  0.210365  0.205419  0.215395  0.223103  0.218405  0.217767   \n",
       "\n",
       "       lag_14    lag_15    lag_16    lag_17    lag_18    lag_19  \n",
       "227  0.215395  0.223103  0.218405  0.217767  0.220275  0.219956  \n",
       "228  0.223103  0.218405  0.217767  0.220275  0.219956  0.218496  \n",
       "229  0.218405  0.217767  0.220275  0.219956  0.218496  0.219089  \n",
       "230  0.217767  0.220275  0.219956  0.218496  0.219089  0.221597  \n",
       "231  0.220275  0.219956  0.218496  0.219089  0.221597  0.216992  "
      ]
     },
     "execution_count": 11,
     "metadata": {},
     "output_type": "execute_result"
    }
   ],
   "source": [
    "df.tail()"
   ]
  },
  {
   "cell_type": "code",
   "execution_count": 12,
   "metadata": {},
   "outputs": [
    {
     "name": "stderr",
     "output_type": "stream",
     "text": [
      "/home/qamaruddin/.local/lib/python3.6/site-packages/ipykernel_launcher.py:1: FutureWarning: Method .as_matrix will be removed in a future version. Use .values instead.\n",
      "  \"\"\"Entry point for launching an IPython kernel.\n"
     ]
    }
   ],
   "source": [
    "dataset = df.as_matrix()"
   ]
  },
  {
   "cell_type": "code",
   "execution_count": 13,
   "metadata": {},
   "outputs": [
    {
     "data": {
      "text/plain": [
       "(232, 20)"
      ]
     },
     "execution_count": 13,
     "metadata": {},
     "output_type": "execute_result"
    }
   ],
   "source": [
    "dataset.shape"
   ]
  },
  {
   "cell_type": "code",
   "execution_count": 14,
   "metadata": {},
   "outputs": [],
   "source": [
    "X = dataset[:, 0:15]\n",
    "y = dataset[:, 15:20]"
   ]
  },
  {
   "cell_type": "code",
   "execution_count": 15,
   "metadata": {},
   "outputs": [
    {
     "data": {
      "text/plain": [
       "(232, 15)"
      ]
     },
     "execution_count": 15,
     "metadata": {},
     "output_type": "execute_result"
    }
   ],
   "source": [
    "X.shape"
   ]
  },
  {
   "cell_type": "code",
   "execution_count": 16,
   "metadata": {},
   "outputs": [
    {
     "data": {
      "text/plain": [
       "(232, 5)"
      ]
     },
     "execution_count": 16,
     "metadata": {},
     "output_type": "execute_result"
    }
   ],
   "source": [
    "y.shape"
   ]
  },
  {
   "cell_type": "markdown",
   "metadata": {},
   "source": [
    "SciKit Learn Support Vector Regression <a href=\"https://scikit-learn.org/stable/modules/generated/sklearn.svm.SVR.html\">Link</a>"
   ]
  },
  {
   "cell_type": "markdown",
   "metadata": {},
   "source": [
    "SciKit Learn Grid Search Cross Validation <a href=\"https://scikit-learn.org/stable/modules/generated/sklearn.model_selection.GridSearchCV.html\">Link</a>"
   ]
  },
  {
   "cell_type": "code",
   "execution_count": 25,
   "metadata": {},
   "outputs": [],
   "source": [
    "from sklearn.svm import SVR\n",
    "from sklearn.multioutput import MultiOutputRegressor\n",
    "from sklearn.model_selection import TimeSeriesSplit\n",
    "from sklearn.model_selection import GridSearchCV"
   ]
  },
  {
   "cell_type": "code",
   "execution_count": 38,
   "metadata": {},
   "outputs": [],
   "source": [
    "estimator = MultiOutputRegressor(SVR(gamma='scale'))"
   ]
  },
  {
   "cell_type": "code",
   "execution_count": 39,
   "metadata": {},
   "outputs": [
    {
     "data": {
      "text/plain": [
       "dict_keys(['estimator__C', 'estimator__cache_size', 'estimator__coef0', 'estimator__degree', 'estimator__epsilon', 'estimator__gamma', 'estimator__kernel', 'estimator__max_iter', 'estimator__shrinking', 'estimator__tol', 'estimator__verbose', 'estimator', 'n_jobs'])"
      ]
     },
     "execution_count": 39,
     "metadata": {},
     "output_type": "execute_result"
    }
   ],
   "source": [
    "estimator.get_params().keys()"
   ]
  },
  {
   "cell_type": "code",
   "execution_count": 40,
   "metadata": {},
   "outputs": [],
   "source": [
    "parameters = {\n",
    "    'estimator__kernel': ('linear', 'poly', 'rbf'),\n",
    "    'estimator__C': [1, 10]\n",
    "}"
   ]
  },
  {
   "cell_type": "code",
   "execution_count": 43,
   "metadata": {},
   "outputs": [],
   "source": [
    "cv = TimeSeriesSplit(n_splits=5)\n",
    "clf = GridSearchCV(estimator, parameters, cv=cv)"
   ]
  },
  {
   "cell_type": "code",
   "execution_count": 45,
   "metadata": {},
   "outputs": [
    {
     "data": {
      "text/plain": [
       "GridSearchCV(cv=TimeSeriesSplit(max_train_size=None, n_splits=5),\n",
       "       error_score='raise-deprecating',\n",
       "       estimator=MultiOutputRegressor(estimator=SVR(C=1.0, cache_size=200, coef0=0.0, degree=3, epsilon=0.1, gamma='scale',\n",
       "  kernel='rbf', max_iter=-1, shrinking=True, tol=0.001, verbose=False),\n",
       "           n_jobs=None),\n",
       "       fit_params=None, iid='warn', n_jobs=None,\n",
       "       param_grid={'estimator__kernel': ('linear', 'poly', 'rbf'), 'estimator__C': [1, 10]},\n",
       "       pre_dispatch='2*n_jobs', refit=True, return_train_score='warn',\n",
       "       scoring=None, verbose=0)"
      ]
     },
     "execution_count": 45,
     "metadata": {},
     "output_type": "execute_result"
    }
   ],
   "source": [
    "clf.fit(X, y)"
   ]
  },
  {
   "cell_type": "code",
   "execution_count": 46,
   "metadata": {},
   "outputs": [
    {
     "name": "stderr",
     "output_type": "stream",
     "text": [
      "/usr/local/lib/python3.6/dist-packages/sklearn/utils/deprecation.py:125: FutureWarning: You are accessing a training score ('split0_train_score'), which will not be available by default any more in 0.21. If you need training scores, please set return_train_score=True\n",
      "  warnings.warn(*warn_args, **warn_kwargs)\n",
      "/usr/local/lib/python3.6/dist-packages/sklearn/utils/deprecation.py:125: FutureWarning: You are accessing a training score ('split1_train_score'), which will not be available by default any more in 0.21. If you need training scores, please set return_train_score=True\n",
      "  warnings.warn(*warn_args, **warn_kwargs)\n",
      "/usr/local/lib/python3.6/dist-packages/sklearn/utils/deprecation.py:125: FutureWarning: You are accessing a training score ('split2_train_score'), which will not be available by default any more in 0.21. If you need training scores, please set return_train_score=True\n",
      "  warnings.warn(*warn_args, **warn_kwargs)\n",
      "/usr/local/lib/python3.6/dist-packages/sklearn/utils/deprecation.py:125: FutureWarning: You are accessing a training score ('split3_train_score'), which will not be available by default any more in 0.21. If you need training scores, please set return_train_score=True\n",
      "  warnings.warn(*warn_args, **warn_kwargs)\n",
      "/usr/local/lib/python3.6/dist-packages/sklearn/utils/deprecation.py:125: FutureWarning: You are accessing a training score ('split4_train_score'), which will not be available by default any more in 0.21. If you need training scores, please set return_train_score=True\n",
      "  warnings.warn(*warn_args, **warn_kwargs)\n",
      "/usr/local/lib/python3.6/dist-packages/sklearn/utils/deprecation.py:125: FutureWarning: You are accessing a training score ('mean_train_score'), which will not be available by default any more in 0.21. If you need training scores, please set return_train_score=True\n",
      "  warnings.warn(*warn_args, **warn_kwargs)\n",
      "/usr/local/lib/python3.6/dist-packages/sklearn/utils/deprecation.py:125: FutureWarning: You are accessing a training score ('std_train_score'), which will not be available by default any more in 0.21. If you need training scores, please set return_train_score=True\n",
      "  warnings.warn(*warn_args, **warn_kwargs)\n"
     ]
    },
    {
     "data": {
      "text/plain": [
       "{'mean_fit_time': array([0.00322628, 0.00290589, 0.00281777, 0.00276108, 0.00278578,\n",
       "        0.00280643]),\n",
       " 'std_fit_time': array([5.85497568e-04, 1.18873543e-04, 6.55815971e-05, 8.47839263e-05,\n",
       "        5.30481285e-05, 7.74472213e-05]),\n",
       " 'mean_score_time': array([0.00102067, 0.0009757 , 0.00093422, 0.00093355, 0.00092926,\n",
       "        0.00093307]),\n",
       " 'std_score_time': array([7.54205059e-05, 2.87405068e-05, 7.74563219e-06, 8.75953883e-06,\n",
       "        5.22479507e-06, 1.28742501e-05]),\n",
       " 'param_estimator__C': masked_array(data=[1, 1, 1, 10, 10, 10],\n",
       "              mask=[False, False, False, False, False, False],\n",
       "        fill_value='?',\n",
       "             dtype=object),\n",
       " 'param_estimator__kernel': masked_array(data=['linear', 'poly', 'rbf', 'linear', 'poly', 'rbf'],\n",
       "              mask=[False, False, False, False, False, False],\n",
       "        fill_value='?',\n",
       "             dtype=object),\n",
       " 'params': [{'estimator__C': 1, 'estimator__kernel': 'linear'},\n",
       "  {'estimator__C': 1, 'estimator__kernel': 'poly'},\n",
       "  {'estimator__C': 1, 'estimator__kernel': 'rbf'},\n",
       "  {'estimator__C': 10, 'estimator__kernel': 'linear'},\n",
       "  {'estimator__C': 10, 'estimator__kernel': 'poly'},\n",
       "  {'estimator__C': 10, 'estimator__kernel': 'rbf'}],\n",
       " 'split0_test_score': array([-3.90697157, -3.90697157, -3.90697157, -3.90697157, -3.90697157,\n",
       "        -3.90697157]),\n",
       " 'split1_test_score': array([-45.52873061, -45.52873061, -45.52873061, -45.52873061,\n",
       "        -45.52873061, -45.52873061]),\n",
       " 'split2_test_score': array([-49.24029997, -49.24029997, -49.24029997, -49.24029997,\n",
       "        -49.24029997, -49.24029997]),\n",
       " 'split3_test_score': array([-29.2245234, -29.2245234, -29.2245234, -29.2245234, -29.2245234,\n",
       "        -29.2245234]),\n",
       " 'split4_test_score': array([-27.12117704, -27.12117704, -27.12117704, -27.12117704,\n",
       "        -27.12117704, -27.12117704]),\n",
       " 'mean_test_score': array([-31.00434052, -31.00434052, -31.00434052, -31.00434052,\n",
       "        -31.00434052, -31.00434052]),\n",
       " 'std_test_score': array([16.09982755, 16.09982755, 16.09982755, 16.09982755, 16.09982755,\n",
       "        16.09982755]),\n",
       " 'rank_test_score': array([1, 1, 1, 1, 1, 1], dtype=int32),\n",
       " 'split0_train_score': array([-0.06813468, -0.06813468, -0.06813468, -0.06813468, -0.06813468,\n",
       "        -0.06813468]),\n",
       " 'split1_train_score': array([-0.24892173, -0.24892173, -0.24892173, -0.24892173, -0.24892173,\n",
       "        -0.24892173]),\n",
       " 'split2_train_score': array([-0.05711495, -0.05711495, -0.05711495, -0.05711495, -0.05711495,\n",
       "        -0.05711495]),\n",
       " 'split3_train_score': array([-0.11721449, -0.11721449, -0.11721449, -0.11721449, -0.11721449,\n",
       "        -0.11721449]),\n",
       " 'split4_train_score': array([-0.00164507, -0.00164507, -0.00164507, -0.00164507, -0.00164507,\n",
       "        -0.00164507]),\n",
       " 'mean_train_score': array([-0.09860619, -0.09860619, -0.09860619, -0.09860619, -0.09860619,\n",
       "        -0.09860619]),\n",
       " 'std_train_score': array([0.08365707, 0.08365707, 0.08365707, 0.08365707, 0.08365707,\n",
       "        0.08365707])}"
      ]
     },
     "execution_count": 46,
     "metadata": {},
     "output_type": "execute_result"
    }
   ],
   "source": [
    "clf.cv_results_"
   ]
  },
  {
   "cell_type": "code",
   "execution_count": 47,
   "metadata": {},
   "outputs": [
    {
     "data": {
      "text/plain": [
       "MultiOutputRegressor(estimator=SVR(C=1, cache_size=200, coef0=0.0, degree=3, epsilon=0.1, gamma='scale',\n",
       "  kernel='linear', max_iter=-1, shrinking=True, tol=0.001, verbose=False),\n",
       "           n_jobs=None)"
      ]
     },
     "execution_count": 47,
     "metadata": {},
     "output_type": "execute_result"
    }
   ],
   "source": [
    "clf.best_estimator_"
   ]
  },
  {
   "cell_type": "code",
   "execution_count": 48,
   "metadata": {},
   "outputs": [
    {
     "data": {
      "text/plain": [
       "{'estimator__C': 1, 'estimator__kernel': 'linear'}"
      ]
     },
     "execution_count": 48,
     "metadata": {},
     "output_type": "execute_result"
    }
   ],
   "source": [
    "clf.best_params_"
   ]
  },
  {
   "cell_type": "code",
   "execution_count": 49,
   "metadata": {},
   "outputs": [
    {
     "data": {
      "text/plain": [
       "-31.00434051799314"
      ]
     },
     "execution_count": 49,
     "metadata": {},
     "output_type": "execute_result"
    }
   ],
   "source": [
    "clf.best_score_"
   ]
  },
  {
   "cell_type": "code",
   "execution_count": 50,
   "metadata": {},
   "outputs": [],
   "source": [
    "import joblib"
   ]
  },
  {
   "cell_type": "code",
   "execution_count": 52,
   "metadata": {},
   "outputs": [
    {
     "data": {
      "text/plain": [
       "['estimator.joblib']"
      ]
     },
     "execution_count": 52,
     "metadata": {},
     "output_type": "execute_result"
    }
   ],
   "source": [
    "joblib.dump(clf.best_estimator_, 'estimator.joblib')"
   ]
  },
  {
   "cell_type": "code",
   "execution_count": null,
   "metadata": {},
   "outputs": [],
   "source": []
  }
 ],
 "metadata": {
  "kernelspec": {
   "display_name": "Python 3",
   "language": "python",
   "name": "python3"
  },
  "language_info": {
   "codemirror_mode": {
    "name": "ipython",
    "version": 3
   },
   "file_extension": ".py",
   "mimetype": "text/x-python",
   "name": "python",
   "nbconvert_exporter": "python",
   "pygments_lexer": "ipython3",
   "version": "3.6.7"
  }
 },
 "nbformat": 4,
 "nbformat_minor": 2
}
