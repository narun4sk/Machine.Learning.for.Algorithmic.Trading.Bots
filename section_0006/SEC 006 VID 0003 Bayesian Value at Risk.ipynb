{
 "cells": [
  {
   "cell_type": "code",
   "execution_count": 52,
   "metadata": {},
   "outputs": [],
   "source": [
    "import sys"
   ]
  },
  {
   "cell_type": "code",
   "execution_count": 55,
   "metadata": {},
   "outputs": [
    {
     "name": "stdout",
     "output_type": "stream",
     "text": [
      "Collecting pandas\n",
      "  Using cached https://files.pythonhosted.org/packages/e6/de/a0d3defd8f338eaf53ef716e40ef6d6c277c35d50e09b586e170169cdf0d/pandas-0.24.1-cp36-cp36m-manylinux1_x86_64.whl\n",
      "Requirement already satisfied, skipping upgrade: numpy>=1.12.0 in /home/qamaruddin/.local/lib/python3.6/site-packages (from pandas) (1.14.5)\n",
      "Requirement already satisfied, skipping upgrade: pytz>=2011k in /home/qamaruddin/.local/lib/python3.6/site-packages (from pandas) (2018.7)\n",
      "Requirement already satisfied, skipping upgrade: python-dateutil>=2.5.0 in /home/qamaruddin/.local/lib/python3.6/site-packages (from pandas) (2.7.5)\n",
      "Requirement already satisfied, skipping upgrade: six>=1.5 in /home/qamaruddin/.local/lib/python3.6/site-packages (from python-dateutil>=2.5.0->pandas) (1.11.0)\n",
      "\u001b[31mzipline 1.3.0 has requirement networkx<2.0,>=1.9.1, but you'll have networkx 2.2 which is incompatible.\u001b[0m\n",
      "\u001b[31mzipline 1.3.0 has requirement pandas<=0.22,>=0.18.1, but you'll have pandas 0.24.1 which is incompatible.\u001b[0m\n",
      "Installing collected packages: pandas\n",
      "  Found existing installation: pandas 0.22.0\n",
      "    Uninstalling pandas-0.22.0:\n",
      "      Successfully uninstalled pandas-0.22.0\n",
      "Successfully installed pandas-0.24.1\n"
     ]
    }
   ],
   "source": [
    "!{sys.executable} -m pip install --upgrade pandas --user"
   ]
  },
  {
   "cell_type": "code",
   "execution_count": 4,
   "metadata": {},
   "outputs": [],
   "source": [
    "%matplotlib inline\n",
    "import pandas as pd\n",
    "import numpy as np"
   ]
  },
  {
   "cell_type": "code",
   "execution_count": 1,
   "metadata": {},
   "outputs": [
    {
     "ename": "ModuleNotFoundError",
     "evalue": "No module named 'pyfolio'",
     "output_type": "error",
     "traceback": [
      "\u001b[0;31m---------------------------------------------------------------------------\u001b[0m",
      "\u001b[0;31mModuleNotFoundError\u001b[0m                       Traceback (most recent call last)",
      "\u001b[0;32m<ipython-input-1-8390244f92a0>\u001b[0m in \u001b[0;36m<module>\u001b[0;34m\u001b[0m\n\u001b[1;32m      1\u001b[0m \u001b[0mget_ipython\u001b[0m\u001b[0;34m(\u001b[0m\u001b[0;34m)\u001b[0m\u001b[0;34m.\u001b[0m\u001b[0mrun_line_magic\u001b[0m\u001b[0;34m(\u001b[0m\u001b[0;34m'matplotlib'\u001b[0m\u001b[0;34m,\u001b[0m \u001b[0;34m'inline'\u001b[0m\u001b[0;34m)\u001b[0m\u001b[0;34m\u001b[0m\u001b[0;34m\u001b[0m\u001b[0m\n\u001b[0;32m----> 2\u001b[0;31m \u001b[0;32mimport\u001b[0m \u001b[0mpyfolio\u001b[0m \u001b[0;32mas\u001b[0m \u001b[0mpf\u001b[0m\u001b[0;34m\u001b[0m\u001b[0;34m\u001b[0m\u001b[0m\n\u001b[0m",
      "\u001b[0;31mModuleNotFoundError\u001b[0m: No module named 'pyfolio'"
     ]
    }
   ],
   "source": [
    "import pyfolio as pf"
   ]
  },
  {
   "cell_type": "code",
   "execution_count": 73,
   "metadata": {},
   "outputs": [
    {
     "name": "stdout",
     "output_type": "stream",
     "text": [
      "Collecting git+https://github.com/quantopian/pyfolio\n",
      "  Cloning https://github.com/quantopian/pyfolio to /tmp/pip-req-build-bji0ndux\n",
      "Requirement already satisfied, skipping upgrade: ipython>=3.2.3 in /home/qamaruddin/.local/lib/python3.6/site-packages (from pyfolio==0.8.0+193.ga44e41f) (7.1.1)\n",
      "Requirement already satisfied, skipping upgrade: matplotlib>=1.4.0 in /home/qamaruddin/.local/lib/python3.6/site-packages (from pyfolio==0.8.0+193.ga44e41f) (3.0.2)\n",
      "Requirement already satisfied, skipping upgrade: numpy>=1.11.1 in /home/qamaruddin/.local/lib/python3.6/site-packages (from pyfolio==0.8.0+193.ga44e41f) (1.14.5)\n",
      "Requirement already satisfied, skipping upgrade: pandas>=0.18.1 in /home/qamaruddin/.local/lib/python3.6/site-packages (from pyfolio==0.8.0+193.ga44e41f) (0.24.1)\n",
      "Requirement already satisfied, skipping upgrade: pytz>=2014.10 in /home/qamaruddin/.local/lib/python3.6/site-packages (from pyfolio==0.8.0+193.ga44e41f) (2018.7)\n",
      "Requirement already satisfied, skipping upgrade: scipy>=0.14.0 in /home/qamaruddin/.local/lib/python3.6/site-packages (from pyfolio==0.8.0+193.ga44e41f) (1.1.0)\n",
      "Requirement already satisfied, skipping upgrade: scikit-learn>=0.16.1 in /usr/local/lib/python3.6/dist-packages (from pyfolio==0.8.0+193.ga44e41f) (0.20.0)\n",
      "Requirement already satisfied, skipping upgrade: seaborn>=0.7.1 in /home/qamaruddin/.local/lib/python3.6/site-packages (from pyfolio==0.8.0+193.ga44e41f) (0.9.0)\n",
      "Requirement already satisfied, skipping upgrade: empyrical>=0.5.0 in /home/qamaruddin/.local/lib/python3.6/site-packages (from pyfolio==0.8.0+193.ga44e41f) (0.5.0)\n",
      "Requirement already satisfied, skipping upgrade: setuptools>=18.5 in /home/qamaruddin/.local/lib/python3.6/site-packages (from ipython>=3.2.3->pyfolio==0.8.0+193.ga44e41f) (39.1.0)\n",
      "Requirement already satisfied, skipping upgrade: backcall in /home/qamaruddin/.local/lib/python3.6/site-packages (from ipython>=3.2.3->pyfolio==0.8.0+193.ga44e41f) (0.1.0)\n",
      "Requirement already satisfied, skipping upgrade: traitlets>=4.2 in /usr/lib/python3/dist-packages (from ipython>=3.2.3->pyfolio==0.8.0+193.ga44e41f) (4.3.2)\n",
      "Requirement already satisfied, skipping upgrade: pygments in /home/qamaruddin/.local/lib/python3.6/site-packages (from ipython>=3.2.3->pyfolio==0.8.0+193.ga44e41f) (2.2.0)\n",
      "Requirement already satisfied, skipping upgrade: pexpect; sys_platform != \"win32\" in /usr/lib/python3/dist-packages (from ipython>=3.2.3->pyfolio==0.8.0+193.ga44e41f) (4.2.1)\n",
      "Requirement already satisfied, skipping upgrade: prompt-toolkit<2.1.0,>=2.0.0 in /home/qamaruddin/.local/lib/python3.6/site-packages (from ipython>=3.2.3->pyfolio==0.8.0+193.ga44e41f) (2.0.7)\n",
      "Requirement already satisfied, skipping upgrade: jedi>=0.10 in /home/qamaruddin/.local/lib/python3.6/site-packages (from ipython>=3.2.3->pyfolio==0.8.0+193.ga44e41f) (0.13.1)\n",
      "Requirement already satisfied, skipping upgrade: pickleshare in /home/qamaruddin/.local/lib/python3.6/site-packages (from ipython>=3.2.3->pyfolio==0.8.0+193.ga44e41f) (0.7.5)\n",
      "Requirement already satisfied, skipping upgrade: decorator in /home/qamaruddin/.local/lib/python3.6/site-packages (from ipython>=3.2.3->pyfolio==0.8.0+193.ga44e41f) (4.3.0)\n",
      "Requirement already satisfied, skipping upgrade: python-dateutil>=2.1 in /home/qamaruddin/.local/lib/python3.6/site-packages (from matplotlib>=1.4.0->pyfolio==0.8.0+193.ga44e41f) (2.7.5)\n",
      "Requirement already satisfied, skipping upgrade: pyparsing!=2.0.4,!=2.1.2,!=2.1.6,>=2.0.1 in /home/qamaruddin/.local/lib/python3.6/site-packages (from matplotlib>=1.4.0->pyfolio==0.8.0+193.ga44e41f) (2.3.0)\n",
      "Requirement already satisfied, skipping upgrade: cycler>=0.10 in /home/qamaruddin/.local/lib/python3.6/site-packages (from matplotlib>=1.4.0->pyfolio==0.8.0+193.ga44e41f) (0.10.0)\n",
      "Requirement already satisfied, skipping upgrade: kiwisolver>=1.0.1 in /home/qamaruddin/.local/lib/python3.6/site-packages (from matplotlib>=1.4.0->pyfolio==0.8.0+193.ga44e41f) (1.0.1)\n",
      "Requirement already satisfied, skipping upgrade: bottleneck>=1.0.0 in /home/qamaruddin/.local/lib/python3.6/site-packages (from empyrical>=0.5.0->pyfolio==0.8.0+193.ga44e41f) (1.2.1)\n",
      "Requirement already satisfied, skipping upgrade: pandas-datareader>=0.2 in /home/qamaruddin/.local/lib/python3.6/site-packages (from empyrical>=0.5.0->pyfolio==0.8.0+193.ga44e41f) (0.7.0)\n",
      "Requirement already satisfied, skipping upgrade: six>=1.9.0 in /home/qamaruddin/.local/lib/python3.6/site-packages (from prompt-toolkit<2.1.0,>=2.0.0->ipython>=3.2.3->pyfolio==0.8.0+193.ga44e41f) (1.11.0)\n",
      "Requirement already satisfied, skipping upgrade: wcwidth in /home/qamaruddin/.local/lib/python3.6/site-packages (from prompt-toolkit<2.1.0,>=2.0.0->ipython>=3.2.3->pyfolio==0.8.0+193.ga44e41f) (0.1.7)\n",
      "Requirement already satisfied, skipping upgrade: parso>=0.3.0 in /home/qamaruddin/.local/lib/python3.6/site-packages (from jedi>=0.10->ipython>=3.2.3->pyfolio==0.8.0+193.ga44e41f) (0.3.1)\n",
      "Requirement already satisfied, skipping upgrade: lxml in /home/qamaruddin/.local/lib/python3.6/site-packages (from pandas-datareader>=0.2->empyrical>=0.5.0->pyfolio==0.8.0+193.ga44e41f) (4.2.4)\n",
      "Requirement already satisfied, skipping upgrade: wrapt in /home/qamaruddin/.local/lib/python3.6/site-packages (from pandas-datareader>=0.2->empyrical>=0.5.0->pyfolio==0.8.0+193.ga44e41f) (1.10.11)\n",
      "Requirement already satisfied, skipping upgrade: requests>=2.3.0 in /home/qamaruddin/.local/lib/python3.6/site-packages (from pandas-datareader>=0.2->empyrical>=0.5.0->pyfolio==0.8.0+193.ga44e41f) (2.20.1)\n",
      "Requirement already satisfied, skipping upgrade: chardet<3.1.0,>=3.0.2 in /home/qamaruddin/.local/lib/python3.6/site-packages (from requests>=2.3.0->pandas-datareader>=0.2->empyrical>=0.5.0->pyfolio==0.8.0+193.ga44e41f) (3.0.4)\n",
      "Requirement already satisfied, skipping upgrade: urllib3<1.25,>=1.21.1 in /home/qamaruddin/.local/lib/python3.6/site-packages (from requests>=2.3.0->pandas-datareader>=0.2->empyrical>=0.5.0->pyfolio==0.8.0+193.ga44e41f) (1.24.1)\n",
      "Requirement already satisfied, skipping upgrade: idna<2.8,>=2.5 in /home/qamaruddin/.local/lib/python3.6/site-packages (from requests>=2.3.0->pandas-datareader>=0.2->empyrical>=0.5.0->pyfolio==0.8.0+193.ga44e41f) (2.7)\n",
      "Requirement already satisfied, skipping upgrade: certifi>=2017.4.17 in /home/qamaruddin/.local/lib/python3.6/site-packages (from requests>=2.3.0->pandas-datareader>=0.2->empyrical>=0.5.0->pyfolio==0.8.0+193.ga44e41f) (2018.10.15)\n",
      "Building wheels for collected packages: pyfolio\n",
      "  Building wheel for pyfolio (setup.py) ... \u001b[?25ldone\n",
      "\u001b[?25h  Stored in directory: /tmp/pip-ephem-wheel-cache-kygrm9h2/wheels/62/7d/a7/3e462442ba7d63c35414176627c886340521dc3dbc0893ce9f\n",
      "Successfully built pyfolio\n",
      "Installing collected packages: pyfolio\n",
      "  Found existing installation: pyfolio 0.8.0+193.ga44e41f\n",
      "    Uninstalling pyfolio-0.8.0+193.ga44e41f:\n",
      "      Successfully uninstalled pyfolio-0.8.0+193.ga44e41f\n",
      "Successfully installed pyfolio-0.8.0+193.ga44e41f\n"
     ]
    }
   ],
   "source": [
    "!{sys.executable} -m pip install -U git+https://github.com/quantopian/pyfolio --user"
   ]
  },
  {
   "cell_type": "code",
   "execution_count": 56,
   "metadata": {},
   "outputs": [],
   "source": [
    "import pyfolio as pf"
   ]
  },
  {
   "cell_type": "code",
   "execution_count": 57,
   "metadata": {},
   "outputs": [],
   "source": [
    "perf = pd.read_csv('./scalping.csv')"
   ]
  },
  {
   "cell_type": "code",
   "execution_count": 58,
   "metadata": {},
   "outputs": [
    {
     "data": {
      "text/html": [
       "<div>\n",
       "<style scoped>\n",
       "    .dataframe tbody tr th:only-of-type {\n",
       "        vertical-align: middle;\n",
       "    }\n",
       "\n",
       "    .dataframe tbody tr th {\n",
       "        vertical-align: top;\n",
       "    }\n",
       "\n",
       "    .dataframe thead th {\n",
       "        text-align: right;\n",
       "    }\n",
       "</style>\n",
       "<table border=\"1\" class=\"dataframe\">\n",
       "  <thead>\n",
       "    <tr style=\"text-align: right;\">\n",
       "      <th></th>\n",
       "      <th>Unnamed: 0</th>\n",
       "      <th>REC_BB1</th>\n",
       "      <th>REC_BB2</th>\n",
       "      <th>REC_MA1</th>\n",
       "      <th>REC_MA2</th>\n",
       "      <th>REC_NUM_LONGS</th>\n",
       "      <th>REC_NUM_SHORTS</th>\n",
       "      <th>REC_PRICE</th>\n",
       "      <th>algo_volatility</th>\n",
       "      <th>algorithm_period_return</th>\n",
       "      <th>...</th>\n",
       "      <th>short_exposure</th>\n",
       "      <th>short_value</th>\n",
       "      <th>shorts_count</th>\n",
       "      <th>sortino</th>\n",
       "      <th>starting_cash</th>\n",
       "      <th>starting_exposure</th>\n",
       "      <th>starting_value</th>\n",
       "      <th>trading_days</th>\n",
       "      <th>transactions</th>\n",
       "      <th>treasury_period_return</th>\n",
       "    </tr>\n",
       "  </thead>\n",
       "  <tbody>\n",
       "    <tr>\n",
       "      <th>0</th>\n",
       "      <td>2017-01-01 23:59:00+00:00</td>\n",
       "      <td>8.290874</td>\n",
       "      <td>8.419001</td>\n",
       "      <td>8.240</td>\n",
       "      <td>8.204667</td>\n",
       "      <td>1</td>\n",
       "      <td>0</td>\n",
       "      <td>8.24</td>\n",
       "      <td>NaN</td>\n",
       "      <td>0.000166</td>\n",
       "      <td>...</td>\n",
       "      <td>0.00</td>\n",
       "      <td>0.00</td>\n",
       "      <td>0</td>\n",
       "      <td>NaN</td>\n",
       "      <td>5000.000000</td>\n",
       "      <td>0.00</td>\n",
       "      <td>0.00</td>\n",
       "      <td>1</td>\n",
       "      <td>[{'amount': 1, 'dt': Timestamp('2017-01-01 23:...</td>\n",
       "      <td>0.0</td>\n",
       "    </tr>\n",
       "    <tr>\n",
       "      <th>1</th>\n",
       "      <td>2017-01-02 23:59:00+00:00</td>\n",
       "      <td>8.229591</td>\n",
       "      <td>8.348143</td>\n",
       "      <td>8.550</td>\n",
       "      <td>8.516583</td>\n",
       "      <td>14</td>\n",
       "      <td>1</td>\n",
       "      <td>8.55</td>\n",
       "      <td>0.250640</td>\n",
       "      <td>0.022665</td>\n",
       "      <td>...</td>\n",
       "      <td>-1239.75</td>\n",
       "      <td>-1239.75</td>\n",
       "      <td>1</td>\n",
       "      <td>NaN</td>\n",
       "      <td>4002.260380</td>\n",
       "      <td>998.57</td>\n",
       "      <td>998.57</td>\n",
       "      <td>2</td>\n",
       "      <td>[{'amount': 1, 'dt': Timestamp('2017-01-02 00:...</td>\n",
       "      <td>0.0</td>\n",
       "    </tr>\n",
       "    <tr>\n",
       "      <th>2</th>\n",
       "      <td>2017-01-03 23:59:00+00:00</td>\n",
       "      <td>8.660496</td>\n",
       "      <td>9.314957</td>\n",
       "      <td>9.793</td>\n",
       "      <td>9.842000</td>\n",
       "      <td>29</td>\n",
       "      <td>4</td>\n",
       "      <td>9.75</td>\n",
       "      <td>0.468903</td>\n",
       "      <td>-0.014188</td>\n",
       "      <td>...</td>\n",
       "      <td>-1287.00</td>\n",
       "      <td>-1287.00</td>\n",
       "      <td>1</td>\n",
       "      <td>-3.401700</td>\n",
       "      <td>1251.923265</td>\n",
       "      <td>3861.40</td>\n",
       "      <td>3861.40</td>\n",
       "      <td>3</td>\n",
       "      <td>[{'amount': 1, 'dt': Timestamp('2017-01-03 00:...</td>\n",
       "      <td>0.0</td>\n",
       "    </tr>\n",
       "    <tr>\n",
       "      <th>3</th>\n",
       "      <td>2017-01-04 23:59:00+00:00</td>\n",
       "      <td>10.659357</td>\n",
       "      <td>10.873159</td>\n",
       "      <td>11.168</td>\n",
       "      <td>10.999083</td>\n",
       "      <td>49</td>\n",
       "      <td>4</td>\n",
       "      <td>11.21</td>\n",
       "      <td>0.859732</td>\n",
       "      <td>0.077024</td>\n",
       "      <td>...</td>\n",
       "      <td>-1479.72</td>\n",
       "      <td>-1479.72</td>\n",
       "      <td>1</td>\n",
       "      <td>17.433545</td>\n",
       "      <td>5.880425</td>\n",
       "      <td>4923.18</td>\n",
       "      <td>4923.18</td>\n",
       "      <td>4</td>\n",
       "      <td>[]</td>\n",
       "      <td>0.0</td>\n",
       "    </tr>\n",
       "    <tr>\n",
       "      <th>4</th>\n",
       "      <td>2017-01-05 23:59:00+00:00</td>\n",
       "      <td>10.430454</td>\n",
       "      <td>11.128562</td>\n",
       "      <td>10.340</td>\n",
       "      <td>10.306583</td>\n",
       "      <td>57</td>\n",
       "      <td>6</td>\n",
       "      <td>10.34</td>\n",
       "      <td>1.314394</td>\n",
       "      <td>-0.065992</td>\n",
       "      <td>...</td>\n",
       "      <td>-1364.88</td>\n",
       "      <td>-1364.88</td>\n",
       "      <td>1</td>\n",
       "      <td>-2.767581</td>\n",
       "      <td>5.880425</td>\n",
       "      <td>5379.24</td>\n",
       "      <td>5379.24</td>\n",
       "      <td>5</td>\n",
       "      <td>[]</td>\n",
       "      <td>0.0</td>\n",
       "    </tr>\n",
       "  </tbody>\n",
       "</table>\n",
       "<p>5 rows × 45 columns</p>\n",
       "</div>"
      ],
      "text/plain": [
       "                  Unnamed: 0    REC_BB1    REC_BB2  REC_MA1    REC_MA2  \\\n",
       "0  2017-01-01 23:59:00+00:00   8.290874   8.419001    8.240   8.204667   \n",
       "1  2017-01-02 23:59:00+00:00   8.229591   8.348143    8.550   8.516583   \n",
       "2  2017-01-03 23:59:00+00:00   8.660496   9.314957    9.793   9.842000   \n",
       "3  2017-01-04 23:59:00+00:00  10.659357  10.873159   11.168  10.999083   \n",
       "4  2017-01-05 23:59:00+00:00  10.430454  11.128562   10.340  10.306583   \n",
       "\n",
       "   REC_NUM_LONGS  REC_NUM_SHORTS  REC_PRICE  algo_volatility  \\\n",
       "0              1               0       8.24              NaN   \n",
       "1             14               1       8.55         0.250640   \n",
       "2             29               4       9.75         0.468903   \n",
       "3             49               4      11.21         0.859732   \n",
       "4             57               6      10.34         1.314394   \n",
       "\n",
       "   algorithm_period_return           ...            short_exposure  \\\n",
       "0                 0.000166           ...                      0.00   \n",
       "1                 0.022665           ...                  -1239.75   \n",
       "2                -0.014188           ...                  -1287.00   \n",
       "3                 0.077024           ...                  -1479.72   \n",
       "4                -0.065992           ...                  -1364.88   \n",
       "\n",
       "   short_value  shorts_count    sortino  starting_cash  starting_exposure  \\\n",
       "0         0.00             0        NaN    5000.000000               0.00   \n",
       "1     -1239.75             1        NaN    4002.260380             998.57   \n",
       "2     -1287.00             1  -3.401700    1251.923265            3861.40   \n",
       "3     -1479.72             1  17.433545       5.880425            4923.18   \n",
       "4     -1364.88             1  -2.767581       5.880425            5379.24   \n",
       "\n",
       "   starting_value  trading_days  \\\n",
       "0            0.00             1   \n",
       "1          998.57             2   \n",
       "2         3861.40             3   \n",
       "3         4923.18             4   \n",
       "4         5379.24             5   \n",
       "\n",
       "                                        transactions  treasury_period_return  \n",
       "0  [{'amount': 1, 'dt': Timestamp('2017-01-01 23:...                     0.0  \n",
       "1  [{'amount': 1, 'dt': Timestamp('2017-01-02 00:...                     0.0  \n",
       "2  [{'amount': 1, 'dt': Timestamp('2017-01-03 00:...                     0.0  \n",
       "3                                                 []                     0.0  \n",
       "4                                                 []                     0.0  \n",
       "\n",
       "[5 rows x 45 columns]"
      ]
     },
     "execution_count": 58,
     "metadata": {},
     "output_type": "execute_result"
    }
   ],
   "source": [
    "perf.head()"
   ]
  },
  {
   "cell_type": "code",
   "execution_count": 59,
   "metadata": {},
   "outputs": [],
   "source": [
    "perf.index = perf['Unnamed: 0'].values"
   ]
  },
  {
   "cell_type": "code",
   "execution_count": 60,
   "metadata": {},
   "outputs": [],
   "source": [
    "perf = perf.drop(columns=['Unnamed: 0'])"
   ]
  },
  {
   "cell_type": "code",
   "execution_count": 61,
   "metadata": {},
   "outputs": [
    {
     "data": {
      "text/html": [
       "<div>\n",
       "<style scoped>\n",
       "    .dataframe tbody tr th:only-of-type {\n",
       "        vertical-align: middle;\n",
       "    }\n",
       "\n",
       "    .dataframe tbody tr th {\n",
       "        vertical-align: top;\n",
       "    }\n",
       "\n",
       "    .dataframe thead th {\n",
       "        text-align: right;\n",
       "    }\n",
       "</style>\n",
       "<table border=\"1\" class=\"dataframe\">\n",
       "  <thead>\n",
       "    <tr style=\"text-align: right;\">\n",
       "      <th></th>\n",
       "      <th>REC_BB1</th>\n",
       "      <th>REC_BB2</th>\n",
       "      <th>REC_MA1</th>\n",
       "      <th>REC_MA2</th>\n",
       "      <th>REC_NUM_LONGS</th>\n",
       "      <th>REC_NUM_SHORTS</th>\n",
       "      <th>REC_PRICE</th>\n",
       "      <th>algo_volatility</th>\n",
       "      <th>algorithm_period_return</th>\n",
       "      <th>alpha</th>\n",
       "      <th>...</th>\n",
       "      <th>short_exposure</th>\n",
       "      <th>short_value</th>\n",
       "      <th>shorts_count</th>\n",
       "      <th>sortino</th>\n",
       "      <th>starting_cash</th>\n",
       "      <th>starting_exposure</th>\n",
       "      <th>starting_value</th>\n",
       "      <th>trading_days</th>\n",
       "      <th>transactions</th>\n",
       "      <th>treasury_period_return</th>\n",
       "    </tr>\n",
       "  </thead>\n",
       "  <tbody>\n",
       "    <tr>\n",
       "      <th>2017-01-01 23:59:00+00:00</th>\n",
       "      <td>8.290874</td>\n",
       "      <td>8.419001</td>\n",
       "      <td>8.240</td>\n",
       "      <td>8.204667</td>\n",
       "      <td>1</td>\n",
       "      <td>0</td>\n",
       "      <td>8.24</td>\n",
       "      <td>NaN</td>\n",
       "      <td>0.000166</td>\n",
       "      <td>NaN</td>\n",
       "      <td>...</td>\n",
       "      <td>0.00</td>\n",
       "      <td>0.00</td>\n",
       "      <td>0</td>\n",
       "      <td>NaN</td>\n",
       "      <td>5000.000000</td>\n",
       "      <td>0.00</td>\n",
       "      <td>0.00</td>\n",
       "      <td>1</td>\n",
       "      <td>[{'amount': 1, 'dt': Timestamp('2017-01-01 23:...</td>\n",
       "      <td>0.0</td>\n",
       "    </tr>\n",
       "    <tr>\n",
       "      <th>2017-01-02 23:59:00+00:00</th>\n",
       "      <td>8.229591</td>\n",
       "      <td>8.348143</td>\n",
       "      <td>8.550</td>\n",
       "      <td>8.516583</td>\n",
       "      <td>14</td>\n",
       "      <td>1</td>\n",
       "      <td>8.55</td>\n",
       "      <td>0.250640</td>\n",
       "      <td>0.022665</td>\n",
       "      <td>NaN</td>\n",
       "      <td>...</td>\n",
       "      <td>-1239.75</td>\n",
       "      <td>-1239.75</td>\n",
       "      <td>1</td>\n",
       "      <td>NaN</td>\n",
       "      <td>4002.260380</td>\n",
       "      <td>998.57</td>\n",
       "      <td>998.57</td>\n",
       "      <td>2</td>\n",
       "      <td>[{'amount': 1, 'dt': Timestamp('2017-01-02 00:...</td>\n",
       "      <td>0.0</td>\n",
       "    </tr>\n",
       "    <tr>\n",
       "      <th>2017-01-03 23:59:00+00:00</th>\n",
       "      <td>8.660496</td>\n",
       "      <td>9.314957</td>\n",
       "      <td>9.793</td>\n",
       "      <td>9.842000</td>\n",
       "      <td>29</td>\n",
       "      <td>4</td>\n",
       "      <td>9.75</td>\n",
       "      <td>0.468903</td>\n",
       "      <td>-0.014188</td>\n",
       "      <td>2.855276</td>\n",
       "      <td>...</td>\n",
       "      <td>-1287.00</td>\n",
       "      <td>-1287.00</td>\n",
       "      <td>1</td>\n",
       "      <td>-3.401700</td>\n",
       "      <td>1251.923265</td>\n",
       "      <td>3861.40</td>\n",
       "      <td>3861.40</td>\n",
       "      <td>3</td>\n",
       "      <td>[{'amount': 1, 'dt': Timestamp('2017-01-03 00:...</td>\n",
       "      <td>0.0</td>\n",
       "    </tr>\n",
       "    <tr>\n",
       "      <th>2017-01-04 23:59:00+00:00</th>\n",
       "      <td>10.659357</td>\n",
       "      <td>10.873159</td>\n",
       "      <td>11.168</td>\n",
       "      <td>10.999083</td>\n",
       "      <td>49</td>\n",
       "      <td>4</td>\n",
       "      <td>11.21</td>\n",
       "      <td>0.859732</td>\n",
       "      <td>0.077024</td>\n",
       "      <td>4.884972</td>\n",
       "      <td>...</td>\n",
       "      <td>-1479.72</td>\n",
       "      <td>-1479.72</td>\n",
       "      <td>1</td>\n",
       "      <td>17.433545</td>\n",
       "      <td>5.880425</td>\n",
       "      <td>4923.18</td>\n",
       "      <td>4923.18</td>\n",
       "      <td>4</td>\n",
       "      <td>[]</td>\n",
       "      <td>0.0</td>\n",
       "    </tr>\n",
       "    <tr>\n",
       "      <th>2017-01-05 23:59:00+00:00</th>\n",
       "      <td>10.430454</td>\n",
       "      <td>11.128562</td>\n",
       "      <td>10.340</td>\n",
       "      <td>10.306583</td>\n",
       "      <td>57</td>\n",
       "      <td>6</td>\n",
       "      <td>10.34</td>\n",
       "      <td>1.314394</td>\n",
       "      <td>-0.065992</td>\n",
       "      <td>-8.112423</td>\n",
       "      <td>...</td>\n",
       "      <td>-1364.88</td>\n",
       "      <td>-1364.88</td>\n",
       "      <td>1</td>\n",
       "      <td>-2.767581</td>\n",
       "      <td>5.880425</td>\n",
       "      <td>5379.24</td>\n",
       "      <td>5379.24</td>\n",
       "      <td>5</td>\n",
       "      <td>[]</td>\n",
       "      <td>0.0</td>\n",
       "    </tr>\n",
       "  </tbody>\n",
       "</table>\n",
       "<p>5 rows × 44 columns</p>\n",
       "</div>"
      ],
      "text/plain": [
       "                             REC_BB1    REC_BB2  REC_MA1    REC_MA2  \\\n",
       "2017-01-01 23:59:00+00:00   8.290874   8.419001    8.240   8.204667   \n",
       "2017-01-02 23:59:00+00:00   8.229591   8.348143    8.550   8.516583   \n",
       "2017-01-03 23:59:00+00:00   8.660496   9.314957    9.793   9.842000   \n",
       "2017-01-04 23:59:00+00:00  10.659357  10.873159   11.168  10.999083   \n",
       "2017-01-05 23:59:00+00:00  10.430454  11.128562   10.340  10.306583   \n",
       "\n",
       "                           REC_NUM_LONGS  REC_NUM_SHORTS  REC_PRICE  \\\n",
       "2017-01-01 23:59:00+00:00              1               0       8.24   \n",
       "2017-01-02 23:59:00+00:00             14               1       8.55   \n",
       "2017-01-03 23:59:00+00:00             29               4       9.75   \n",
       "2017-01-04 23:59:00+00:00             49               4      11.21   \n",
       "2017-01-05 23:59:00+00:00             57               6      10.34   \n",
       "\n",
       "                           algo_volatility  algorithm_period_return     alpha  \\\n",
       "2017-01-01 23:59:00+00:00              NaN                 0.000166       NaN   \n",
       "2017-01-02 23:59:00+00:00         0.250640                 0.022665       NaN   \n",
       "2017-01-03 23:59:00+00:00         0.468903                -0.014188  2.855276   \n",
       "2017-01-04 23:59:00+00:00         0.859732                 0.077024  4.884972   \n",
       "2017-01-05 23:59:00+00:00         1.314394                -0.065992 -8.112423   \n",
       "\n",
       "                                    ...            short_exposure  \\\n",
       "2017-01-01 23:59:00+00:00           ...                      0.00   \n",
       "2017-01-02 23:59:00+00:00           ...                  -1239.75   \n",
       "2017-01-03 23:59:00+00:00           ...                  -1287.00   \n",
       "2017-01-04 23:59:00+00:00           ...                  -1479.72   \n",
       "2017-01-05 23:59:00+00:00           ...                  -1364.88   \n",
       "\n",
       "                           short_value  shorts_count    sortino  \\\n",
       "2017-01-01 23:59:00+00:00         0.00             0        NaN   \n",
       "2017-01-02 23:59:00+00:00     -1239.75             1        NaN   \n",
       "2017-01-03 23:59:00+00:00     -1287.00             1  -3.401700   \n",
       "2017-01-04 23:59:00+00:00     -1479.72             1  17.433545   \n",
       "2017-01-05 23:59:00+00:00     -1364.88             1  -2.767581   \n",
       "\n",
       "                           starting_cash  starting_exposure  starting_value  \\\n",
       "2017-01-01 23:59:00+00:00    5000.000000               0.00            0.00   \n",
       "2017-01-02 23:59:00+00:00    4002.260380             998.57          998.57   \n",
       "2017-01-03 23:59:00+00:00    1251.923265            3861.40         3861.40   \n",
       "2017-01-04 23:59:00+00:00       5.880425            4923.18         4923.18   \n",
       "2017-01-05 23:59:00+00:00       5.880425            5379.24         5379.24   \n",
       "\n",
       "                           trading_days  \\\n",
       "2017-01-01 23:59:00+00:00             1   \n",
       "2017-01-02 23:59:00+00:00             2   \n",
       "2017-01-03 23:59:00+00:00             3   \n",
       "2017-01-04 23:59:00+00:00             4   \n",
       "2017-01-05 23:59:00+00:00             5   \n",
       "\n",
       "                                                                transactions  \\\n",
       "2017-01-01 23:59:00+00:00  [{'amount': 1, 'dt': Timestamp('2017-01-01 23:...   \n",
       "2017-01-02 23:59:00+00:00  [{'amount': 1, 'dt': Timestamp('2017-01-02 00:...   \n",
       "2017-01-03 23:59:00+00:00  [{'amount': 1, 'dt': Timestamp('2017-01-03 00:...   \n",
       "2017-01-04 23:59:00+00:00                                                 []   \n",
       "2017-01-05 23:59:00+00:00                                                 []   \n",
       "\n",
       "                           treasury_period_return  \n",
       "2017-01-01 23:59:00+00:00                     0.0  \n",
       "2017-01-02 23:59:00+00:00                     0.0  \n",
       "2017-01-03 23:59:00+00:00                     0.0  \n",
       "2017-01-04 23:59:00+00:00                     0.0  \n",
       "2017-01-05 23:59:00+00:00                     0.0  \n",
       "\n",
       "[5 rows x 44 columns]"
      ]
     },
     "execution_count": 61,
     "metadata": {},
     "output_type": "execute_result"
    }
   ],
   "source": [
    "perf.head()"
   ]
  },
  {
   "cell_type": "code",
   "execution_count": 62,
   "metadata": {},
   "outputs": [
    {
     "ename": "AttributeError",
     "evalue": "'Index' object has no attribute 'normalize'",
     "output_type": "error",
     "traceback": [
      "\u001b[0;31m---------------------------------------------------------------------------\u001b[0m",
      "\u001b[0;31mAttributeError\u001b[0m                            Traceback (most recent call last)",
      "\u001b[0;32m<ipython-input-62-5beec1954394>\u001b[0m in \u001b[0;36m<module>\u001b[0;34m\u001b[0m\n\u001b[0;32m----> 1\u001b[0;31m \u001b[0mreturns\u001b[0m\u001b[0;34m,\u001b[0m \u001b[0mpositions\u001b[0m\u001b[0;34m,\u001b[0m \u001b[0mtransactions\u001b[0m \u001b[0;34m=\u001b[0m \u001b[0mpf\u001b[0m\u001b[0;34m.\u001b[0m\u001b[0mutils\u001b[0m\u001b[0;34m.\u001b[0m\u001b[0mextract_rets_pos_txn_from_zipline\u001b[0m\u001b[0;34m(\u001b[0m\u001b[0mperf\u001b[0m\u001b[0;34m)\u001b[0m\u001b[0;34m\u001b[0m\u001b[0;34m\u001b[0m\u001b[0m\n\u001b[0m",
      "\u001b[0;32m~/.local/lib/python3.6/site-packages/pyfolio/utils.py\u001b[0m in \u001b[0;36mextract_rets_pos_txn_from_zipline\u001b[0;34m(backtest)\u001b[0m\n\u001b[1;32m    154\u001b[0m     \u001b[0mraw_positions\u001b[0m \u001b[0;34m=\u001b[0m \u001b[0;34m[\u001b[0m\u001b[0;34m]\u001b[0m\u001b[0;34m\u001b[0m\u001b[0;34m\u001b[0m\u001b[0m\n\u001b[1;32m    155\u001b[0m     \u001b[0;32mfor\u001b[0m \u001b[0mdt\u001b[0m\u001b[0;34m,\u001b[0m \u001b[0mpos_row\u001b[0m \u001b[0;32min\u001b[0m \u001b[0mbacktest\u001b[0m\u001b[0;34m.\u001b[0m\u001b[0mpositions\u001b[0m\u001b[0;34m.\u001b[0m\u001b[0miteritems\u001b[0m\u001b[0;34m(\u001b[0m\u001b[0;34m)\u001b[0m\u001b[0;34m:\u001b[0m\u001b[0;34m\u001b[0m\u001b[0;34m\u001b[0m\u001b[0m\n\u001b[0;32m--> 156\u001b[0;31m         \u001b[0mdf\u001b[0m \u001b[0;34m=\u001b[0m \u001b[0mpd\u001b[0m\u001b[0;34m.\u001b[0m\u001b[0mDataFrame\u001b[0m\u001b[0;34m(\u001b[0m\u001b[0mpos_row\u001b[0m\u001b[0;34m)\u001b[0m\u001b[0;34m\u001b[0m\u001b[0;34m\u001b[0m\u001b[0m\n\u001b[0m\u001b[1;32m    157\u001b[0m         \u001b[0mdf\u001b[0m\u001b[0;34m.\u001b[0m\u001b[0mindex\u001b[0m \u001b[0;34m=\u001b[0m \u001b[0;34m[\u001b[0m\u001b[0mdt\u001b[0m\u001b[0;34m]\u001b[0m \u001b[0;34m*\u001b[0m \u001b[0mlen\u001b[0m\u001b[0;34m(\u001b[0m\u001b[0mdf\u001b[0m\u001b[0;34m)\u001b[0m\u001b[0;34m\u001b[0m\u001b[0;34m\u001b[0m\u001b[0m\n\u001b[1;32m    158\u001b[0m         \u001b[0mraw_positions\u001b[0m\u001b[0;34m.\u001b[0m\u001b[0mappend\u001b[0m\u001b[0;34m(\u001b[0m\u001b[0mdf\u001b[0m\u001b[0;34m)\u001b[0m\u001b[0;34m\u001b[0m\u001b[0;34m\u001b[0m\u001b[0m\n",
      "\u001b[0;31mAttributeError\u001b[0m: 'Index' object has no attribute 'normalize'"
     ]
    }
   ],
   "source": [
    "returns, positions, transactions = pf.utils.extract_rets_pos_txn_from_zipline(perf)"
   ]
  },
  {
   "cell_type": "code",
   "execution_count": 63,
   "metadata": {},
   "outputs": [
    {
     "ename": "AttributeError",
     "evalue": "'Index' object has no attribute 'tz_localize'",
     "output_type": "error",
     "traceback": [
      "\u001b[0;31m---------------------------------------------------------------------------\u001b[0m",
      "\u001b[0;31mAttributeError\u001b[0m                            Traceback (most recent call last)",
      "\u001b[0;32m<ipython-input-63-8827dc2fdeb1>\u001b[0m in \u001b[0;36m<module>\u001b[0;34m\u001b[0m\n\u001b[1;32m      1\u001b[0m \u001b[0;32mimport\u001b[0m \u001b[0mpytz\u001b[0m\u001b[0;34m\u001b[0m\u001b[0;34m\u001b[0m\u001b[0m\n\u001b[1;32m      2\u001b[0m \u001b[0;34m\u001b[0m\u001b[0m\n\u001b[0;32m----> 3\u001b[0;31m \u001b[0mperf\u001b[0m\u001b[0;34m.\u001b[0m\u001b[0mindex\u001b[0m \u001b[0;34m=\u001b[0m \u001b[0mperf\u001b[0m\u001b[0;34m.\u001b[0m\u001b[0mindex\u001b[0m\u001b[0;34m.\u001b[0m\u001b[0mtz_localize\u001b[0m\u001b[0;34m(\u001b[0m\u001b[0mpytz\u001b[0m\u001b[0;34m.\u001b[0m\u001b[0mutc\u001b[0m\u001b[0;34m)\u001b[0m\u001b[0;34m\u001b[0m\u001b[0;34m\u001b[0m\u001b[0m\n\u001b[0m",
      "\u001b[0;31mAttributeError\u001b[0m: 'Index' object has no attribute 'tz_localize'"
     ]
    }
   ],
   "source": [
    "import pytz\n",
    "\n",
    "perf.index = perf.index.tz_localize(pytz.utc)"
   ]
  },
  {
   "cell_type": "code",
   "execution_count": 64,
   "metadata": {},
   "outputs": [],
   "source": [
    "perf.index = pd.DatetimeIndex(perf.index)"
   ]
  },
  {
   "cell_type": "code",
   "execution_count": 74,
   "metadata": {},
   "outputs": [
    {
     "ename": "ValueError",
     "evalue": "DataFrame constructor not properly called!",
     "output_type": "error",
     "traceback": [
      "\u001b[0;31m---------------------------------------------------------------------------\u001b[0m",
      "\u001b[0;31mValueError\u001b[0m                                Traceback (most recent call last)",
      "\u001b[0;32m<ipython-input-74-5beec1954394>\u001b[0m in \u001b[0;36m<module>\u001b[0;34m\u001b[0m\n\u001b[0;32m----> 1\u001b[0;31m \u001b[0mreturns\u001b[0m\u001b[0;34m,\u001b[0m \u001b[0mpositions\u001b[0m\u001b[0;34m,\u001b[0m \u001b[0mtransactions\u001b[0m \u001b[0;34m=\u001b[0m \u001b[0mpf\u001b[0m\u001b[0;34m.\u001b[0m\u001b[0mutils\u001b[0m\u001b[0;34m.\u001b[0m\u001b[0mextract_rets_pos_txn_from_zipline\u001b[0m\u001b[0;34m(\u001b[0m\u001b[0mperf\u001b[0m\u001b[0;34m)\u001b[0m\u001b[0;34m\u001b[0m\u001b[0;34m\u001b[0m\u001b[0m\n\u001b[0m",
      "\u001b[0;32m~/.local/lib/python3.6/site-packages/pyfolio/utils.py\u001b[0m in \u001b[0;36mextract_rets_pos_txn_from_zipline\u001b[0;34m(backtest)\u001b[0m\n\u001b[1;32m    160\u001b[0m         \u001b[0;32mraise\u001b[0m \u001b[0mValueError\u001b[0m\u001b[0;34m(\u001b[0m\u001b[0;34m\"The backtest does not have any positions.\"\u001b[0m\u001b[0;34m)\u001b[0m\u001b[0;34m\u001b[0m\u001b[0;34m\u001b[0m\u001b[0m\n\u001b[1;32m    161\u001b[0m     \u001b[0mpositions\u001b[0m \u001b[0;34m=\u001b[0m \u001b[0mpd\u001b[0m\u001b[0;34m.\u001b[0m\u001b[0mconcat\u001b[0m\u001b[0;34m(\u001b[0m\u001b[0mraw_positions\u001b[0m\u001b[0;34m)\u001b[0m\u001b[0;34m\u001b[0m\u001b[0;34m\u001b[0m\u001b[0m\n\u001b[0;32m--> 162\u001b[0;31m     \u001b[0mpositions\u001b[0m \u001b[0;34m=\u001b[0m \u001b[0mpos\u001b[0m\u001b[0;34m.\u001b[0m\u001b[0mextract_pos\u001b[0m\u001b[0;34m(\u001b[0m\u001b[0mpositions\u001b[0m\u001b[0;34m,\u001b[0m \u001b[0mbacktest\u001b[0m\u001b[0;34m.\u001b[0m\u001b[0mending_cash\u001b[0m\u001b[0;34m)\u001b[0m\u001b[0;34m\u001b[0m\u001b[0;34m\u001b[0m\u001b[0m\n\u001b[0m\u001b[1;32m    163\u001b[0m     \u001b[0mtransactions\u001b[0m \u001b[0;34m=\u001b[0m \u001b[0mtxn\u001b[0m\u001b[0;34m.\u001b[0m\u001b[0mmake_transaction_frame\u001b[0m\u001b[0;34m(\u001b[0m\u001b[0mbacktest\u001b[0m\u001b[0;34m.\u001b[0m\u001b[0mtransactions\u001b[0m\u001b[0;34m)\u001b[0m\u001b[0;34m\u001b[0m\u001b[0;34m\u001b[0m\u001b[0m\n\u001b[1;32m    164\u001b[0m     \u001b[0;32mif\u001b[0m \u001b[0mtransactions\u001b[0m\u001b[0;34m.\u001b[0m\u001b[0mindex\u001b[0m\u001b[0;34m.\u001b[0m\u001b[0mtzinfo\u001b[0m \u001b[0;32mis\u001b[0m \u001b[0;32mNone\u001b[0m\u001b[0;34m:\u001b[0m\u001b[0;34m\u001b[0m\u001b[0;34m\u001b[0m\u001b[0m\n",
      "\u001b[0;32m~/.local/lib/python3.6/site-packages/pandas/core/frame.py\u001b[0m in \u001b[0;36m__init__\u001b[0;34m(self, data, index, columns, dtype, copy)\u001b[0m\n\u001b[1;32m    402\u001b[0m                 \u001b[0mmask\u001b[0m \u001b[0;34m=\u001b[0m \u001b[0mma\u001b[0m\u001b[0;34m.\u001b[0m\u001b[0mgetmaskarray\u001b[0m\u001b[0;34m(\u001b[0m\u001b[0mdata\u001b[0m\u001b[0;34m)\u001b[0m\u001b[0;34m\u001b[0m\u001b[0;34m\u001b[0m\u001b[0m\n\u001b[1;32m    403\u001b[0m                 \u001b[0;32mif\u001b[0m \u001b[0mmask\u001b[0m\u001b[0;34m.\u001b[0m\u001b[0many\u001b[0m\u001b[0;34m(\u001b[0m\u001b[0;34m)\u001b[0m\u001b[0;34m:\u001b[0m\u001b[0;34m\u001b[0m\u001b[0;34m\u001b[0m\u001b[0m\n\u001b[0;32m--> 404\u001b[0;31m                     \u001b[0mdata\u001b[0m\u001b[0;34m,\u001b[0m \u001b[0mfill_value\u001b[0m \u001b[0;34m=\u001b[0m \u001b[0mmaybe_upcast\u001b[0m\u001b[0;34m(\u001b[0m\u001b[0mdata\u001b[0m\u001b[0;34m,\u001b[0m \u001b[0mcopy\u001b[0m\u001b[0;34m=\u001b[0m\u001b[0;32mTrue\u001b[0m\u001b[0;34m)\u001b[0m\u001b[0;34m\u001b[0m\u001b[0;34m\u001b[0m\u001b[0m\n\u001b[0m\u001b[1;32m    405\u001b[0m                     \u001b[0mdata\u001b[0m\u001b[0;34m.\u001b[0m\u001b[0msoften_mask\u001b[0m\u001b[0;34m(\u001b[0m\u001b[0;34m)\u001b[0m  \u001b[0;31m# set hardmask False if it was True\u001b[0m\u001b[0;34m\u001b[0m\u001b[0;34m\u001b[0m\u001b[0m\n\u001b[1;32m    406\u001b[0m                     \u001b[0mdata\u001b[0m\u001b[0;34m[\u001b[0m\u001b[0mmask\u001b[0m\u001b[0;34m]\u001b[0m \u001b[0;34m=\u001b[0m \u001b[0mfill_value\u001b[0m\u001b[0;34m\u001b[0m\u001b[0;34m\u001b[0m\u001b[0m\n",
      "\u001b[0;31mValueError\u001b[0m: DataFrame constructor not properly called!"
     ]
    }
   ],
   "source": [
    "returns, positions, transactions = pf.utils.extract_rets_pos_txn_from_zipline(perf)"
   ]
  },
  {
   "cell_type": "code",
   "execution_count": 82,
   "metadata": {},
   "outputs": [
    {
     "ename": "ValueError",
     "evalue": "DataFrame constructor not properly called!",
     "output_type": "error",
     "traceback": [
      "\u001b[0;31m---------------------------------------------------------------------------\u001b[0m",
      "\u001b[0;31mValueError\u001b[0m                                Traceback (most recent call last)",
      "\u001b[0;32m<ipython-input-82-97ff29613198>\u001b[0m in \u001b[0;36m<module>\u001b[0;34m\u001b[0m\n\u001b[1;32m      1\u001b[0m \u001b[0mraw_positions\u001b[0m \u001b[0;34m=\u001b[0m \u001b[0;34m[\u001b[0m\u001b[0;34m]\u001b[0m\u001b[0;34m\u001b[0m\u001b[0;34m\u001b[0m\u001b[0m\n\u001b[1;32m      2\u001b[0m \u001b[0;32mfor\u001b[0m \u001b[0mdt\u001b[0m\u001b[0;34m,\u001b[0m \u001b[0mpos_row\u001b[0m \u001b[0;32min\u001b[0m \u001b[0mperf\u001b[0m\u001b[0;34m.\u001b[0m\u001b[0mpositions\u001b[0m\u001b[0;34m.\u001b[0m\u001b[0miteritems\u001b[0m\u001b[0;34m(\u001b[0m\u001b[0;34m)\u001b[0m\u001b[0;34m:\u001b[0m\u001b[0;34m\u001b[0m\u001b[0;34m\u001b[0m\u001b[0m\n\u001b[0;32m----> 3\u001b[0;31m     \u001b[0mdf\u001b[0m \u001b[0;34m=\u001b[0m \u001b[0mpd\u001b[0m\u001b[0;34m.\u001b[0m\u001b[0mDataFrame\u001b[0m\u001b[0;34m(\u001b[0m\u001b[0mpos_row\u001b[0m\u001b[0;34m)\u001b[0m\u001b[0;34m\u001b[0m\u001b[0;34m\u001b[0m\u001b[0m\n\u001b[0m",
      "\u001b[0;32m~/.local/lib/python3.6/site-packages/pandas/core/frame.py\u001b[0m in \u001b[0;36m__init__\u001b[0;34m(self, data, index, columns, dtype, copy)\u001b[0m\n\u001b[1;32m    402\u001b[0m                 \u001b[0mmask\u001b[0m \u001b[0;34m=\u001b[0m \u001b[0mma\u001b[0m\u001b[0;34m.\u001b[0m\u001b[0mgetmaskarray\u001b[0m\u001b[0;34m(\u001b[0m\u001b[0mdata\u001b[0m\u001b[0;34m)\u001b[0m\u001b[0;34m\u001b[0m\u001b[0;34m\u001b[0m\u001b[0m\n\u001b[1;32m    403\u001b[0m                 \u001b[0;32mif\u001b[0m \u001b[0mmask\u001b[0m\u001b[0;34m.\u001b[0m\u001b[0many\u001b[0m\u001b[0;34m(\u001b[0m\u001b[0;34m)\u001b[0m\u001b[0;34m:\u001b[0m\u001b[0;34m\u001b[0m\u001b[0;34m\u001b[0m\u001b[0m\n\u001b[0;32m--> 404\u001b[0;31m                     \u001b[0mdata\u001b[0m\u001b[0;34m,\u001b[0m \u001b[0mfill_value\u001b[0m \u001b[0;34m=\u001b[0m \u001b[0mmaybe_upcast\u001b[0m\u001b[0;34m(\u001b[0m\u001b[0mdata\u001b[0m\u001b[0;34m,\u001b[0m \u001b[0mcopy\u001b[0m\u001b[0;34m=\u001b[0m\u001b[0;32mTrue\u001b[0m\u001b[0;34m)\u001b[0m\u001b[0;34m\u001b[0m\u001b[0;34m\u001b[0m\u001b[0m\n\u001b[0m\u001b[1;32m    405\u001b[0m                     \u001b[0mdata\u001b[0m\u001b[0;34m.\u001b[0m\u001b[0msoften_mask\u001b[0m\u001b[0;34m(\u001b[0m\u001b[0;34m)\u001b[0m  \u001b[0;31m# set hardmask False if it was True\u001b[0m\u001b[0;34m\u001b[0m\u001b[0;34m\u001b[0m\u001b[0m\n\u001b[1;32m    406\u001b[0m                     \u001b[0mdata\u001b[0m\u001b[0;34m[\u001b[0m\u001b[0mmask\u001b[0m\u001b[0;34m]\u001b[0m \u001b[0;34m=\u001b[0m \u001b[0mfill_value\u001b[0m\u001b[0;34m\u001b[0m\u001b[0;34m\u001b[0m\u001b[0m\n",
      "\u001b[0;31mValueError\u001b[0m: DataFrame constructor not properly called!"
     ]
    }
   ],
   "source": [
    "raw_positions = []\n",
    "for dt, pos_row in perf.positions.iteritems():\n",
    "    df = pd.DataFrame(pos_row)"
   ]
  },
  {
   "cell_type": "code",
   "execution_count": 66,
   "metadata": {},
   "outputs": [
    {
     "ename": "NameError",
     "evalue": "name 'returns' is not defined",
     "output_type": "error",
     "traceback": [
      "\u001b[0;31m---------------------------------------------------------------------------\u001b[0m",
      "\u001b[0;31mNameError\u001b[0m                                 Traceback (most recent call last)",
      "\u001b[0;32m<ipython-input-66-1ca332020ea8>\u001b[0m in \u001b[0;36m<module>\u001b[0;34m\u001b[0m\n\u001b[0;32m----> 1\u001b[0;31m \u001b[0mpf\u001b[0m\u001b[0;34m.\u001b[0m\u001b[0mcreate_full_tear_sheet\u001b[0m\u001b[0;34m(\u001b[0m\u001b[0mreturns\u001b[0m\u001b[0;34m,\u001b[0m \u001b[0mpositions\u001b[0m\u001b[0;34m=\u001b[0m\u001b[0mpositions\u001b[0m\u001b[0;34m,\u001b[0m \u001b[0mtransactions\u001b[0m\u001b[0;34m=\u001b[0m\u001b[0mtransactions\u001b[0m\u001b[0;34m)\u001b[0m\u001b[0;34m\u001b[0m\u001b[0;34m\u001b[0m\u001b[0m\n\u001b[0m",
      "\u001b[0;31mNameError\u001b[0m: name 'returns' is not defined"
     ]
    }
   ],
   "source": [
    "pf.create_full_tear_sheet(returns, positions=positions, transactions=transactions)"
   ]
  },
  {
   "cell_type": "code",
   "execution_count": 67,
   "metadata": {},
   "outputs": [
    {
     "ename": "NameError",
     "evalue": "name 'returns' is not defined",
     "output_type": "error",
     "traceback": [
      "\u001b[0;31m---------------------------------------------------------------------------\u001b[0m",
      "\u001b[0;31mNameError\u001b[0m                                 Traceback (most recent call last)",
      "\u001b[0;32m<ipython-input-67-beea7466e2cb>\u001b[0m in \u001b[0;36m<module>\u001b[0;34m\u001b[0m\n\u001b[0;32m----> 1\u001b[0;31m \u001b[0mpf\u001b[0m\u001b[0;34m.\u001b[0m\u001b[0mshow_perf_stats\u001b[0m\u001b[0;34m(\u001b[0m\u001b[0mreturns\u001b[0m\u001b[0;34m)\u001b[0m\u001b[0;34m\u001b[0m\u001b[0;34m\u001b[0m\u001b[0m\n\u001b[0m",
      "\u001b[0;31mNameError\u001b[0m: name 'returns' is not defined"
     ]
    }
   ],
   "source": [
    "pf.show_perf_stats(returns)"
   ]
  },
  {
   "cell_type": "code",
   "execution_count": 68,
   "metadata": {},
   "outputs": [
    {
     "ename": "NameError",
     "evalue": "name 'returns' is not defined",
     "output_type": "error",
     "traceback": [
      "\u001b[0;31m---------------------------------------------------------------------------\u001b[0m",
      "\u001b[0;31mNameError\u001b[0m                                 Traceback (most recent call last)",
      "\u001b[0;32m<ipython-input-68-0d9d2853402a>\u001b[0m in \u001b[0;36m<module>\u001b[0;34m\u001b[0m\n\u001b[0;32m----> 1\u001b[0;31m \u001b[0mpf\u001b[0m\u001b[0;34m.\u001b[0m\u001b[0mcreate_bayesian_tear_sheet\u001b[0m\u001b[0;34m(\u001b[0m\u001b[0mreturns\u001b[0m\u001b[0;34m,\u001b[0m \u001b[0mlive_start_date\u001b[0m\u001b[0;34m=\u001b[0m\u001b[0mreturns\u001b[0m\u001b[0;34m.\u001b[0m\u001b[0mindex\u001b[0m\u001b[0;34m[\u001b[0m\u001b[0;34m-\u001b[0m\u001b[0;36m40\u001b[0m\u001b[0;34m]\u001b[0m\u001b[0;34m)\u001b[0m\u001b[0;34m\u001b[0m\u001b[0;34m\u001b[0m\u001b[0m\n\u001b[0m",
      "\u001b[0;31mNameError\u001b[0m: name 'returns' is not defined"
     ]
    }
   ],
   "source": [
    "pf.create_bayesian_tear_sheet(returns, live_start_date=returns.index[-40])"
   ]
  },
  {
   "cell_type": "code",
   "execution_count": 69,
   "metadata": {},
   "outputs": [
    {
     "ename": "AttributeError",
     "evalue": "module 'pyfolio' has no attribute 'bayesian'",
     "output_type": "error",
     "traceback": [
      "\u001b[0;31m---------------------------------------------------------------------------\u001b[0m",
      "\u001b[0;31mAttributeError\u001b[0m                            Traceback (most recent call last)",
      "\u001b[0;32m<ipython-input-69-306bd36d4492>\u001b[0m in \u001b[0;36m<module>\u001b[0;34m\u001b[0m\n\u001b[0;32m----> 1\u001b[0;31m \u001b[0mhelp\u001b[0m\u001b[0;34m(\u001b[0m\u001b[0mpf\u001b[0m\u001b[0;34m.\u001b[0m\u001b[0mbayesian\u001b[0m\u001b[0;34m.\u001b[0m\u001b[0mrun_model\u001b[0m\u001b[0;34m)\u001b[0m\u001b[0;34m\u001b[0m\u001b[0;34m\u001b[0m\u001b[0m\n\u001b[0m",
      "\u001b[0;31mAttributeError\u001b[0m: module 'pyfolio' has no attribute 'bayesian'"
     ]
    }
   ],
   "source": [
    "help(pf.bayesian.run_model)"
   ]
  },
  {
   "cell_type": "code",
   "execution_count": 70,
   "metadata": {},
   "outputs": [
    {
     "ename": "AttributeError",
     "evalue": "module 'pyfolio' has no attribute 'bayesian'",
     "output_type": "error",
     "traceback": [
      "\u001b[0;31m---------------------------------------------------------------------------\u001b[0m",
      "\u001b[0;31mAttributeError\u001b[0m                            Traceback (most recent call last)",
      "\u001b[0;32m<ipython-input-70-35d1a2e220da>\u001b[0m in \u001b[0;36m<module>\u001b[0;34m\u001b[0m\n\u001b[0;32m----> 1\u001b[0;31m \u001b[0mtrace\u001b[0m \u001b[0;34m=\u001b[0m \u001b[0mpf\u001b[0m\u001b[0;34m.\u001b[0m\u001b[0mbayesian\u001b[0m\u001b[0;34m.\u001b[0m\u001b[0mrun_model\u001b[0m\u001b[0;34m(\u001b[0m\u001b[0;34m't'\u001b[0m\u001b[0;34m,\u001b[0m \u001b[0mreturns\u001b[0m\u001b[0;34m)\u001b[0m\u001b[0;34m\u001b[0m\u001b[0;34m\u001b[0m\u001b[0m\n\u001b[0m",
      "\u001b[0;31mAttributeError\u001b[0m: module 'pyfolio' has no attribute 'bayesian'"
     ]
    }
   ],
   "source": [
    "trace = pf.bayesian.run_model('t', returns)"
   ]
  },
  {
   "cell_type": "code",
   "execution_count": 71,
   "metadata": {},
   "outputs": [],
   "source": [
    "import pymc3 as pm"
   ]
  },
  {
   "cell_type": "code",
   "execution_count": 72,
   "metadata": {},
   "outputs": [
    {
     "ename": "NameError",
     "evalue": "name 'trace' is not defined",
     "output_type": "error",
     "traceback": [
      "\u001b[0;31m---------------------------------------------------------------------------\u001b[0m",
      "\u001b[0;31mNameError\u001b[0m                                 Traceback (most recent call last)",
      "\u001b[0;32m<ipython-input-72-90ac00e125a0>\u001b[0m in \u001b[0;36m<module>\u001b[0;34m\u001b[0m\n\u001b[1;32m      1\u001b[0m \u001b[0;32mimport\u001b[0m \u001b[0mpymc3\u001b[0m \u001b[0;32mas\u001b[0m \u001b[0mpm\u001b[0m\u001b[0;34m\u001b[0m\u001b[0;34m\u001b[0m\u001b[0m\n\u001b[1;32m      2\u001b[0m \u001b[0;34m\u001b[0m\u001b[0m\n\u001b[0;32m----> 3\u001b[0;31m \u001b[0mpm\u001b[0m\u001b[0;34m.\u001b[0m\u001b[0mtraceplot\u001b[0m\u001b[0;34m(\u001b[0m\u001b[0mtrace\u001b[0m\u001b[0;34m)\u001b[0m\u001b[0;34m;\u001b[0m\u001b[0;34m\u001b[0m\u001b[0;34m\u001b[0m\u001b[0m\n\u001b[0m",
      "\u001b[0;31mNameError\u001b[0m: name 'trace' is not defined"
     ]
    }
   ],
   "source": [
    "import pymc3 as pm\n",
    "\n",
    "pm.traceplot(trace);"
   ]
  },
  {
   "cell_type": "code",
   "execution_count": null,
   "metadata": {},
   "outputs": [],
   "source": []
  }
 ],
 "metadata": {
  "kernelspec": {
   "display_name": "Python 3",
   "language": "python",
   "name": "python3"
  },
  "language_info": {
   "codemirror_mode": {
    "name": "ipython",
    "version": 3
   },
   "file_extension": ".py",
   "mimetype": "text/x-python",
   "name": "python",
   "nbconvert_exporter": "python",
   "pygments_lexer": "ipython3",
   "version": "3.6.7"
  }
 },
 "nbformat": 4,
 "nbformat_minor": 2
}
