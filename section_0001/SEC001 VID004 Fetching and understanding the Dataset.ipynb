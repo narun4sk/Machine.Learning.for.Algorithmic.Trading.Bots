{
 "cells": [
  {
   "cell_type": "code",
   "execution_count": 1,
   "metadata": {},
   "outputs": [],
   "source": [
    "import pandas as pd\n",
    "import numpy as np\n",
    "from matplotlib import pyplot as plt\n",
    "%matplotlib inline"
   ]
  },
  {
   "cell_type": "code",
   "execution_count": 2,
   "metadata": {},
   "outputs": [],
   "source": [
    "from zipline.data.data_portal import DataPortal\n",
    "from zipline.data import bundles\n",
    "from zipline.utils.calendars import get_calendar"
   ]
  },
  {
   "cell_type": "code",
   "execution_count": 3,
   "metadata": {},
   "outputs": [],
   "source": [
    "bundle_data = bundles.load(\"quandl\")"
   ]
  },
  {
   "cell_type": "code",
   "execution_count": 4,
   "metadata": {},
   "outputs": [
    {
     "name": "stdout",
     "output_type": "stream",
     "text": [
      "<class 'zipline.data.bundles.core.BundleData'>\n"
     ]
    }
   ],
   "source": [
    "print(type(bundle_data))"
   ]
  },
  {
   "cell_type": "code",
   "execution_count": 5,
   "metadata": {},
   "outputs": [],
   "source": [
    "end_date = pd.Timestamp(\"2014-01-01\", tz=\"utc\")"
   ]
  },
  {
   "cell_type": "code",
   "execution_count": 6,
   "metadata": {},
   "outputs": [
    {
     "data": {
      "text/plain": [
       "Timestamp('1990-01-02 00:00:00+0000', tz='UTC')"
      ]
     },
     "execution_count": 6,
     "metadata": {},
     "output_type": "execute_result"
    }
   ],
   "source": [
    "bundle_data.equity_daily_bar_reader.first_trading_day"
   ]
  },
  {
   "cell_type": "code",
   "execution_count": 7,
   "metadata": {},
   "outputs": [],
   "source": [
    "data_por = DataPortal(\n",
    "    asset_finder=bundle_data.asset_finder, \n",
    "    trading_calendar=get_calendar(\"NYSE\"),\n",
    "    first_trading_day=bundle_data.equity_daily_bar_reader.first_trading_day,\n",
    "    equity_daily_reader=bundle_data.equity_daily_bar_reader\n",
    ")"
   ]
  },
  {
   "cell_type": "code",
   "execution_count": 8,
   "metadata": {},
   "outputs": [],
   "source": [
    "TSLA = data_por.asset_finder.lookup_symbol(\n",
    "    \"TSLA\",\n",
    "    as_of_date=None\n",
    ")"
   ]
  },
  {
   "cell_type": "code",
   "execution_count": 9,
   "metadata": {},
   "outputs": [],
   "source": [
    "df = data_por.get_history_window(\n",
    "    assets=[TSLA],\n",
    "    end_dt=end_date,\n",
    "    bar_count=31 * 12,\n",
    "    frequency='1d',\n",
    "    data_frequency='daily',\n",
    "    field=\"open\"\n",
    ")"
   ]
  },
  {
   "cell_type": "code",
   "execution_count": 10,
   "metadata": {},
   "outputs": [
    {
     "data": {
      "text/html": [
       "<div>\n",
       "<style scoped>\n",
       "    .dataframe tbody tr th:only-of-type {\n",
       "        vertical-align: middle;\n",
       "    }\n",
       "\n",
       "    .dataframe tbody tr th {\n",
       "        vertical-align: top;\n",
       "    }\n",
       "\n",
       "    .dataframe thead th {\n",
       "        text-align: right;\n",
       "    }\n",
       "</style>\n",
       "<table border=\"1\" class=\"dataframe\">\n",
       "  <thead>\n",
       "    <tr style=\"text-align: right;\">\n",
       "      <th></th>\n",
       "      <th>Equity(2862 [TSLA])</th>\n",
       "    </tr>\n",
       "  </thead>\n",
       "  <tbody>\n",
       "    <tr>\n",
       "      <th>2012-07-11 00:00:00+00:00</th>\n",
       "      <td>31.57</td>\n",
       "    </tr>\n",
       "    <tr>\n",
       "      <th>2012-07-12 00:00:00+00:00</th>\n",
       "      <td>31.29</td>\n",
       "    </tr>\n",
       "    <tr>\n",
       "      <th>2012-07-13 00:00:00+00:00</th>\n",
       "      <td>32.97</td>\n",
       "    </tr>\n",
       "    <tr>\n",
       "      <th>2012-07-16 00:00:00+00:00</th>\n",
       "      <td>34.32</td>\n",
       "    </tr>\n",
       "    <tr>\n",
       "      <th>2012-07-17 00:00:00+00:00</th>\n",
       "      <td>35.00</td>\n",
       "    </tr>\n",
       "  </tbody>\n",
       "</table>\n",
       "</div>"
      ],
      "text/plain": [
       "                           Equity(2862 [TSLA])\n",
       "2012-07-11 00:00:00+00:00                31.57\n",
       "2012-07-12 00:00:00+00:00                31.29\n",
       "2012-07-13 00:00:00+00:00                32.97\n",
       "2012-07-16 00:00:00+00:00                34.32\n",
       "2012-07-17 00:00:00+00:00                35.00"
      ]
     },
     "execution_count": 10,
     "metadata": {},
     "output_type": "execute_result"
    }
   ],
   "source": [
    "df.head()"
   ]
  },
  {
   "cell_type": "code",
   "execution_count": 11,
   "metadata": {},
   "outputs": [
    {
     "data": {
      "text/html": [
       "<div>\n",
       "<style scoped>\n",
       "    .dataframe tbody tr th:only-of-type {\n",
       "        vertical-align: middle;\n",
       "    }\n",
       "\n",
       "    .dataframe tbody tr th {\n",
       "        vertical-align: top;\n",
       "    }\n",
       "\n",
       "    .dataframe thead th {\n",
       "        text-align: right;\n",
       "    }\n",
       "</style>\n",
       "<table border=\"1\" class=\"dataframe\">\n",
       "  <thead>\n",
       "    <tr style=\"text-align: right;\">\n",
       "      <th></th>\n",
       "      <th>Equity(2862 [TSLA])</th>\n",
       "    </tr>\n",
       "  </thead>\n",
       "  <tbody>\n",
       "    <tr>\n",
       "      <th>count</th>\n",
       "      <td>372.000000</td>\n",
       "    </tr>\n",
       "    <tr>\n",
       "      <th>mean</th>\n",
       "      <td>80.908038</td>\n",
       "    </tr>\n",
       "    <tr>\n",
       "      <th>std</th>\n",
       "      <td>55.761551</td>\n",
       "    </tr>\n",
       "    <tr>\n",
       "      <th>min</th>\n",
       "      <td>26.840000</td>\n",
       "    </tr>\n",
       "    <tr>\n",
       "      <th>25%</th>\n",
       "      <td>32.780000</td>\n",
       "    </tr>\n",
       "    <tr>\n",
       "      <th>50%</th>\n",
       "      <td>42.730000</td>\n",
       "    </tr>\n",
       "    <tr>\n",
       "      <th>75%</th>\n",
       "      <td>136.442500</td>\n",
       "    </tr>\n",
       "    <tr>\n",
       "      <th>max</th>\n",
       "      <td>193.960000</td>\n",
       "    </tr>\n",
       "  </tbody>\n",
       "</table>\n",
       "</div>"
      ],
      "text/plain": [
       "       Equity(2862 [TSLA])\n",
       "count           372.000000\n",
       "mean             80.908038\n",
       "std              55.761551\n",
       "min              26.840000\n",
       "25%              32.780000\n",
       "50%              42.730000\n",
       "75%             136.442500\n",
       "max             193.960000"
      ]
     },
     "execution_count": 11,
     "metadata": {},
     "output_type": "execute_result"
    }
   ],
   "source": [
    "df.describe()"
   ]
  },
  {
   "cell_type": "code",
   "execution_count": 12,
   "metadata": {},
   "outputs": [],
   "source": [
    "df.index = pd.DatetimeIndex(df.index)"
   ]
  },
  {
   "cell_type": "code",
   "execution_count": 13,
   "metadata": {},
   "outputs": [
    {
     "data": {
      "text/plain": [
       "Equity(2862 [TSLA])"
      ]
     },
     "execution_count": 13,
     "metadata": {},
     "output_type": "execute_result"
    }
   ],
   "source": [
    "list(df.columns)[0]"
   ]
  },
  {
   "cell_type": "code",
   "execution_count": 14,
   "metadata": {},
   "outputs": [],
   "source": [
    "df['open'] = df[list(df.columns)[0]]"
   ]
  },
  {
   "cell_type": "code",
   "execution_count": 15,
   "metadata": {},
   "outputs": [
    {
     "data": {
      "text/html": [
       "<div>\n",
       "<style scoped>\n",
       "    .dataframe tbody tr th:only-of-type {\n",
       "        vertical-align: middle;\n",
       "    }\n",
       "\n",
       "    .dataframe tbody tr th {\n",
       "        vertical-align: top;\n",
       "    }\n",
       "\n",
       "    .dataframe thead th {\n",
       "        text-align: right;\n",
       "    }\n",
       "</style>\n",
       "<table border=\"1\" class=\"dataframe\">\n",
       "  <thead>\n",
       "    <tr style=\"text-align: right;\">\n",
       "      <th></th>\n",
       "      <th>Equity(2862 [TSLA])</th>\n",
       "      <th>open</th>\n",
       "    </tr>\n",
       "  </thead>\n",
       "  <tbody>\n",
       "    <tr>\n",
       "      <th>2012-07-11 00:00:00+00:00</th>\n",
       "      <td>31.57</td>\n",
       "      <td>31.57</td>\n",
       "    </tr>\n",
       "    <tr>\n",
       "      <th>2012-07-12 00:00:00+00:00</th>\n",
       "      <td>31.29</td>\n",
       "      <td>31.29</td>\n",
       "    </tr>\n",
       "    <tr>\n",
       "      <th>2012-07-13 00:00:00+00:00</th>\n",
       "      <td>32.97</td>\n",
       "      <td>32.97</td>\n",
       "    </tr>\n",
       "    <tr>\n",
       "      <th>2012-07-16 00:00:00+00:00</th>\n",
       "      <td>34.32</td>\n",
       "      <td>34.32</td>\n",
       "    </tr>\n",
       "    <tr>\n",
       "      <th>2012-07-17 00:00:00+00:00</th>\n",
       "      <td>35.00</td>\n",
       "      <td>35.00</td>\n",
       "    </tr>\n",
       "  </tbody>\n",
       "</table>\n",
       "</div>"
      ],
      "text/plain": [
       "                           Equity(2862 [TSLA])   open\n",
       "2012-07-11 00:00:00+00:00                31.57  31.57\n",
       "2012-07-12 00:00:00+00:00                31.29  31.29\n",
       "2012-07-13 00:00:00+00:00                32.97  32.97\n",
       "2012-07-16 00:00:00+00:00                34.32  34.32\n",
       "2012-07-17 00:00:00+00:00                35.00  35.00"
      ]
     },
     "execution_count": 15,
     "metadata": {},
     "output_type": "execute_result"
    }
   ],
   "source": [
    "df.head()"
   ]
  },
  {
   "cell_type": "code",
   "execution_count": 16,
   "metadata": {},
   "outputs": [],
   "source": [
    "df = df.drop(columns=[list(df.columns)[0]])"
   ]
  },
  {
   "cell_type": "code",
   "execution_count": 17,
   "metadata": {},
   "outputs": [
    {
     "data": {
      "text/html": [
       "<div>\n",
       "<style scoped>\n",
       "    .dataframe tbody tr th:only-of-type {\n",
       "        vertical-align: middle;\n",
       "    }\n",
       "\n",
       "    .dataframe tbody tr th {\n",
       "        vertical-align: top;\n",
       "    }\n",
       "\n",
       "    .dataframe thead th {\n",
       "        text-align: right;\n",
       "    }\n",
       "</style>\n",
       "<table border=\"1\" class=\"dataframe\">\n",
       "  <thead>\n",
       "    <tr style=\"text-align: right;\">\n",
       "      <th></th>\n",
       "      <th>open</th>\n",
       "    </tr>\n",
       "  </thead>\n",
       "  <tbody>\n",
       "    <tr>\n",
       "      <th>2012-07-11 00:00:00+00:00</th>\n",
       "      <td>31.57</td>\n",
       "    </tr>\n",
       "    <tr>\n",
       "      <th>2012-07-12 00:00:00+00:00</th>\n",
       "      <td>31.29</td>\n",
       "    </tr>\n",
       "    <tr>\n",
       "      <th>2012-07-13 00:00:00+00:00</th>\n",
       "      <td>32.97</td>\n",
       "    </tr>\n",
       "    <tr>\n",
       "      <th>2012-07-16 00:00:00+00:00</th>\n",
       "      <td>34.32</td>\n",
       "    </tr>\n",
       "    <tr>\n",
       "      <th>2012-07-17 00:00:00+00:00</th>\n",
       "      <td>35.00</td>\n",
       "    </tr>\n",
       "  </tbody>\n",
       "</table>\n",
       "</div>"
      ],
      "text/plain": [
       "                            open\n",
       "2012-07-11 00:00:00+00:00  31.57\n",
       "2012-07-12 00:00:00+00:00  31.29\n",
       "2012-07-13 00:00:00+00:00  32.97\n",
       "2012-07-16 00:00:00+00:00  34.32\n",
       "2012-07-17 00:00:00+00:00  35.00"
      ]
     },
     "execution_count": 17,
     "metadata": {},
     "output_type": "execute_result"
    }
   ],
   "source": [
    "df.head()"
   ]
  },
  {
   "cell_type": "code",
   "execution_count": 18,
   "metadata": {},
   "outputs": [],
   "source": [
    "df['close'] = data_por.get_history_window(\n",
    "    assets=[TSLA],\n",
    "    end_dt=end_date,\n",
    "    bar_count=31 * 12,\n",
    "    frequency='1d',\n",
    "    data_frequency='daily',\n",
    "    field=\"close\"\n",
    ")"
   ]
  },
  {
   "cell_type": "code",
   "execution_count": 19,
   "metadata": {},
   "outputs": [],
   "source": [
    "df['low'] = data_por.get_history_window(\n",
    "    assets=[TSLA],\n",
    "    end_dt=end_date,\n",
    "    bar_count=31 * 12,\n",
    "    frequency='1d',\n",
    "    data_frequency='daily',\n",
    "    field=\"low\"\n",
    ")"
   ]
  },
  {
   "cell_type": "code",
   "execution_count": 20,
   "metadata": {},
   "outputs": [],
   "source": [
    "df['high'] = data_por.get_history_window(\n",
    "    assets=[TSLA],\n",
    "    end_dt=end_date,\n",
    "    bar_count=31 * 12,\n",
    "    frequency='1d',\n",
    "    data_frequency='daily',\n",
    "    field=\"high\"\n",
    ")"
   ]
  },
  {
   "cell_type": "code",
   "execution_count": 21,
   "metadata": {},
   "outputs": [
    {
     "data": {
      "text/html": [
       "<div>\n",
       "<style scoped>\n",
       "    .dataframe tbody tr th:only-of-type {\n",
       "        vertical-align: middle;\n",
       "    }\n",
       "\n",
       "    .dataframe tbody tr th {\n",
       "        vertical-align: top;\n",
       "    }\n",
       "\n",
       "    .dataframe thead th {\n",
       "        text-align: right;\n",
       "    }\n",
       "</style>\n",
       "<table border=\"1\" class=\"dataframe\">\n",
       "  <thead>\n",
       "    <tr style=\"text-align: right;\">\n",
       "      <th></th>\n",
       "      <th>open</th>\n",
       "      <th>close</th>\n",
       "      <th>low</th>\n",
       "      <th>high</th>\n",
       "    </tr>\n",
       "  </thead>\n",
       "  <tbody>\n",
       "    <tr>\n",
       "      <th>2012-07-11 00:00:00+00:00</th>\n",
       "      <td>31.57</td>\n",
       "      <td>31.51</td>\n",
       "      <td>31.01</td>\n",
       "      <td>31.68</td>\n",
       "    </tr>\n",
       "    <tr>\n",
       "      <th>2012-07-12 00:00:00+00:00</th>\n",
       "      <td>31.29</td>\n",
       "      <td>32.70</td>\n",
       "      <td>30.80</td>\n",
       "      <td>33.01</td>\n",
       "    </tr>\n",
       "    <tr>\n",
       "      <th>2012-07-13 00:00:00+00:00</th>\n",
       "      <td>32.97</td>\n",
       "      <td>34.25</td>\n",
       "      <td>32.83</td>\n",
       "      <td>34.40</td>\n",
       "    </tr>\n",
       "    <tr>\n",
       "      <th>2012-07-16 00:00:00+00:00</th>\n",
       "      <td>34.32</td>\n",
       "      <td>35.96</td>\n",
       "      <td>33.90</td>\n",
       "      <td>36.00</td>\n",
       "    </tr>\n",
       "    <tr>\n",
       "      <th>2012-07-17 00:00:00+00:00</th>\n",
       "      <td>35.00</td>\n",
       "      <td>33.35</td>\n",
       "      <td>32.38</td>\n",
       "      <td>35.21</td>\n",
       "    </tr>\n",
       "  </tbody>\n",
       "</table>\n",
       "</div>"
      ],
      "text/plain": [
       "                            open  close    low   high\n",
       "2012-07-11 00:00:00+00:00  31.57  31.51  31.01  31.68\n",
       "2012-07-12 00:00:00+00:00  31.29  32.70  30.80  33.01\n",
       "2012-07-13 00:00:00+00:00  32.97  34.25  32.83  34.40\n",
       "2012-07-16 00:00:00+00:00  34.32  35.96  33.90  36.00\n",
       "2012-07-17 00:00:00+00:00  35.00  33.35  32.38  35.21"
      ]
     },
     "execution_count": 21,
     "metadata": {},
     "output_type": "execute_result"
    }
   ],
   "source": [
    "df.head()"
   ]
  },
  {
   "cell_type": "code",
   "execution_count": 22,
   "metadata": {},
   "outputs": [
    {
     "data": {
      "text/html": [
       "<div>\n",
       "<style scoped>\n",
       "    .dataframe tbody tr th:only-of-type {\n",
       "        vertical-align: middle;\n",
       "    }\n",
       "\n",
       "    .dataframe tbody tr th {\n",
       "        vertical-align: top;\n",
       "    }\n",
       "\n",
       "    .dataframe thead th {\n",
       "        text-align: right;\n",
       "    }\n",
       "</style>\n",
       "<table border=\"1\" class=\"dataframe\">\n",
       "  <thead>\n",
       "    <tr style=\"text-align: right;\">\n",
       "      <th></th>\n",
       "      <th>open</th>\n",
       "      <th>close</th>\n",
       "      <th>low</th>\n",
       "      <th>high</th>\n",
       "    </tr>\n",
       "  </thead>\n",
       "  <tbody>\n",
       "    <tr>\n",
       "      <th>2013-12-26 00:00:00+00:00</th>\n",
       "      <td>155.04</td>\n",
       "      <td>155.500</td>\n",
       "      <td>154.290</td>\n",
       "      <td>158.000</td>\n",
       "    </tr>\n",
       "    <tr>\n",
       "      <th>2013-12-27 00:00:00+00:00</th>\n",
       "      <td>155.30</td>\n",
       "      <td>151.120</td>\n",
       "      <td>150.800</td>\n",
       "      <td>155.499</td>\n",
       "    </tr>\n",
       "    <tr>\n",
       "      <th>2013-12-30 00:00:00+00:00</th>\n",
       "      <td>151.12</td>\n",
       "      <td>152.440</td>\n",
       "      <td>150.750</td>\n",
       "      <td>154.810</td>\n",
       "    </tr>\n",
       "    <tr>\n",
       "      <th>2013-12-31 00:00:00+00:00</th>\n",
       "      <td>152.32</td>\n",
       "      <td>150.429</td>\n",
       "      <td>148.661</td>\n",
       "      <td>153.200</td>\n",
       "    </tr>\n",
       "    <tr>\n",
       "      <th>2014-01-02 00:00:00+00:00</th>\n",
       "      <td>149.80</td>\n",
       "      <td>150.100</td>\n",
       "      <td>146.550</td>\n",
       "      <td>152.476</td>\n",
       "    </tr>\n",
       "  </tbody>\n",
       "</table>\n",
       "</div>"
      ],
      "text/plain": [
       "                             open    close      low     high\n",
       "2013-12-26 00:00:00+00:00  155.04  155.500  154.290  158.000\n",
       "2013-12-27 00:00:00+00:00  155.30  151.120  150.800  155.499\n",
       "2013-12-30 00:00:00+00:00  151.12  152.440  150.750  154.810\n",
       "2013-12-31 00:00:00+00:00  152.32  150.429  148.661  153.200\n",
       "2014-01-02 00:00:00+00:00  149.80  150.100  146.550  152.476"
      ]
     },
     "execution_count": 22,
     "metadata": {},
     "output_type": "execute_result"
    }
   ],
   "source": [
    "df.tail()"
   ]
  },
  {
   "cell_type": "code",
   "execution_count": 23,
   "metadata": {},
   "outputs": [
    {
     "name": "stdout",
     "output_type": "stream",
     "text": [
      "frozenset({'volume', 'high', 'open', 'low', 'close'})\n"
     ]
    }
   ],
   "source": [
    "from zipline.data.data_portal import OHLCV_FIELDS\n",
    "\n",
    "print(OHLCV_FIELDS)"
   ]
  },
  {
   "cell_type": "code",
   "execution_count": 24,
   "metadata": {},
   "outputs": [
    {
     "data": {
      "image/png": "[encoded data removed]",
      "text/plain": [
       "<Figure size 1152x576 with 1 Axes>"
      ]
     },
     "metadata": {
      "needs_background": "light"
     },
     "output_type": "display_data"
    }
   ],
   "source": [
    "from matplotlib.dates import MonthLocator, date2num, DateFormatter\n",
    "\n",
    "fig, ax = plt.subplots()\n",
    "\n",
    "fig.subplots_adjust(bottom=0.3)\n",
    "\n",
    "fig.set_figwidth(16)\n",
    "fig.set_figheight(8)\n",
    "\n",
    "ax.plot(df.index, df.open)\n",
    "ax.plot(df.index, df.close)\n",
    "\n",
    "lctr = MonthLocator()  # every month\n",
    "frmt = DateFormatter('%b')  # %b gives us Jan, Feb...\n",
    "\n",
    "ax.xaxis.set_major_locator(lctr)\n",
    "ax.xaxis.set_major_formatter(frmt)\n",
    "\n",
    "ax.legend()\n",
    "\n",
    "plt.xticks(rotation=70)\n",
    "plt.tight_layout()\n",
    "plt.show();"
   ]
  },
  {
   "cell_type": "markdown",
   "metadata": {},
   "source": [
    "#### Link <a href=\"https://www.forbes.com/sites/jimgorzelany/2013/10/02/tesla-model-s-catches-fire-stock-price-drops/#27f44d49781a\"> Read More </a>"
   ]
  },
  {
   "cell_type": "code",
   "execution_count": 27,
   "metadata": {},
   "outputs": [
    {
     "data": {
      "image/png": "[encoded data removed]",
      "text/plain": [
       "<Figure size 1152x576 with 1 Axes>"
      ]
     },
     "metadata": {
      "needs_background": "light"
     },
     "output_type": "display_data"
    }
   ],
   "source": [
    "from mpl_finance import candlestick2_ohlc\n",
    "\n",
    "fig, ax = plt.subplots()\n",
    "\n",
    "fig.subplots_adjust(bottom=0.3)\n",
    "\n",
    "fig.set_figwidth(16)\n",
    "fig.set_figheight(8)\n",
    "\n",
    "lctr = MonthLocator()  # every month\n",
    "frmt = DateFormatter('%b')  # %b gives us Jan, Feb...\n",
    "\n",
    "ax.xaxis.set_major_locator(lctr)\n",
    "ax.xaxis.set_major_formatter(frmt)\n",
    "\n",
    "candlestick2_ohlc(ax,\n",
    "                 opens=df.open,\n",
    "                 closes=df.close,\n",
    "                 highs=df.high,\n",
    "                 lows=df.low,\n",
    "                 width=0.8,\n",
    "                 colorup='r',\n",
    "                 colordown='k')\n",
    "\n",
    "plt.xticks(rotation=70)\n",
    "plt.tight_layout()\n",
    "plt.show()"
   ]
  },
  {
   "cell_type": "code",
   "execution_count": null,
   "metadata": {},
   "outputs": [],
   "source": []
  },
  {
   "cell_type": "code",
   "execution_count": null,
   "metadata": {},
   "outputs": [],
   "source": []
  }
 ],
 "metadata": {
  "kernelspec": {
   "display_name": "Python 3",
   "language": "python",
   "name": "python3"
  },
  "language_info": {
   "codemirror_mode": {
    "name": "ipython",
    "version": 3
   },
   "file_extension": ".py",
   "mimetype": "text/x-python",
   "name": "python",
   "nbconvert_exporter": "python",
   "pygments_lexer": "ipython3",
   "version": "3.6.7"
  }
 },
 "nbformat": 4,
 "nbformat_minor": 2
}
